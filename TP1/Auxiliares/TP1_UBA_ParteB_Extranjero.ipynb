{
 "cells": [
  {
   "cell_type": "markdown",
   "id": "154db849-b9ed-44d4-8e33-acf9d5887385",
   "metadata": {},
   "source": [
    "## Ejercicio 4 - Documentando noticias locales y en el extranjero\n",
    "Eligan dos sitios web de noticias: uno de Argentina y uno del extranjero (puede ser en castellano o en inglés como el *New York Times*).\n",
    "\n",
    "Utilicen herramientas de webscraping para obtener los **links** de las noticias de la portada en ambos diarios. Guarden cada titular con los links obtenidos en un dataframe. Por lo tanto, debe quedarles un dataframe de 4 columnas: una columna para noticias locales, otra para su link, otra columna de noticias extranjeras y una ultima columna de sus links. Luego, expórtenlo a un archivo de excel.\n",
    "\n",
    "En el reporte este esta parte B:\n",
    "1) Inserten una captura de pantalla de la pagina del diario extranjero y en Argentina de las cuales hacen el ejercicio de extraer titulares y sus links correspondientes. Esto servirá al momento de la corrección para verificar que los links obtenidos hacen referencia a las noticias de ese día y hora.\n",
    "2) Comenten brevemente (1 párrafo) las diferencias/similitudes al extraer titulares en diarios de Argentina versus diario extranjero\n",
    "3) Comenten brevemente (1 párrafo) las dificultades y cómo resolvieron dichas dificultades.\n",
    "\n",
    "*Nota*: es posible que logren obtener los links a las noticias sin el dominio: por ejemplo \"https://www.lanacion.com.ar/\". De ser así, concatenen el dominio a la ruta del link obtenido, tal que se obtenga un link al que se pueda acceder. Es decir, que las cadenas de caracteres finales tendrán la forma: https://www.lanacion.com.ar/*texto_obtenido*)"
   ]
  },
  {
   "cell_type": "markdown",
   "id": "66d62522-c6d6-45c0-b969-50b9404994a5",
   "metadata": {},
   "source": [
    "### Preparación de paquetes"
   ]
  },
  {
   "cell_type": "code",
   "execution_count": 6,
   "id": "00af6b51-1285-4b17-9ade-823cf4c9b498",
   "metadata": {},
   "outputs": [
    {
     "name": "stdout",
     "output_type": "stream",
     "text": [
      "hola\n"
     ]
    }
   ],
   "source": [
    "#Importamos los paquetes relevantes\n",
    "import pandas as pd # manipular DF's\n",
    "import requests # HTTP requestor\n",
    "from bs4 import BeautifulSoup # HTML parser\n",
    "print(\"hola\") # Pruebo que el kernel esté funcionando"
   ]
  },
  {
   "cell_type": "markdown",
   "id": "f11448ab-4a2b-405f-8789-ff57a5e18d5a",
   "metadata": {},
   "source": [
    "### Scraping de diario extranjero"
   ]
  },
  {
   "cell_type": "code",
   "execution_count": 7,
   "id": "c0b7be19-eb82-4a96-8482-65f1d30ed04f",
   "metadata": {},
   "outputs": [],
   "source": [
    "# Presentamos las URLs y su contenido HTML\n",
    "# urlarg = INSERTAR LINK\n",
    "urlext = \"https://www.washingtonpost.com/\" #URL Extranjera"
   ]
  },
  {
   "cell_type": "code",
   "execution_count": 8,
   "id": "671e137a-9eb0-423e-82fa-70f57a438c11",
   "metadata": {},
   "outputs": [],
   "source": [
    "#Código para imprimir el HTML\n",
    "def imprimirHTML(link):\n",
    "    rext = requests.get(link)\n",
    "    contenido_ext = rext.content\n",
    "    soupext = BeautifulSoup(contenido_ext,\"html.parser\")\n",
    "    print(soupext)"
   ]
  },
  {
   "cell_type": "code",
   "execution_count": 9,
   "id": "7e5f5140-12d3-434d-ad5f-9f286bf43d9c",
   "metadata": {},
   "outputs": [],
   "source": [
    "# imprimirHTML(\"https://www.washingtonpost.com/\") # Si bien definí el link más arriba con la variable 'urlext', defino una función para probar varios links más rápido"
   ]
  },
  {
   "cell_type": "markdown",
   "id": "c2ca8a00-739a-49d5-b20a-c36dbfb748a9",
   "metadata": {},
   "source": [
    "Por algún motivo, la ejecución de la \"sopa\" no imprime nada, pero tampoco devuelve error. Sospecho que puede ser algo propio de Washington Post, como si tuviera algún tipo de protección."
   ]
  },
  {
   "cell_type": "code",
   "execution_count": 10,
   "id": "00f7d8b7-f953-4ebd-aed8-a541fd8944db",
   "metadata": {},
   "outputs": [],
   "source": [
    "# Mejoro la función creada para que reporte error de acceso si es que existe:\n",
    "def imprimirHTML(link):\n",
    "    try:\n",
    "        response = requests.get(link)\n",
    "        response.raise_for_status()  # Lanza error si hay problema HTTP\n",
    "        contenido = response.content\n",
    "        soup = BeautifulSoup(contenido, \"html.parser\")\n",
    "        print(soup)\n",
    "    except requests.exceptions.RequestException as e:\n",
    "        print(f\"Error al acceder a {link}: {e}\")\n",
    "\n",
    "# imprimirHTML(\"https://www.washingtonpost.com/\")"
   ]
  },
  {
   "cell_type": "markdown",
   "id": "b978462f-d20a-4d93-9fa5-0e6af61acd93",
   "metadata": {},
   "source": [
    "Tampoco avanza, e incluso un simple 'print(\"hola\")' queda sin cargare: debe ser un tema de permisos del Washington Post.\n",
    "<br>Comentario adicional: al reiniciar el Kernel, el parseo del HTML del Washington Post devolvió un 'TimeoutError'.\n",
    "\n",
    "Pruebo la función con un diario de menor relevancia:"
   ]
  },
  {
   "cell_type": "code",
   "execution_count": null,
   "id": "13380811-4dba-4274-ad01-ff0e698f390a",
   "metadata": {},
   "outputs": [],
   "source": [
    "imprimirHTML(\"https://www.nzherald.co.nz/sport/rugby/\") # New Zealand Rugby Herald"
   ]
  },
  {
   "cell_type": "markdown",
   "id": "66eb0a1f-f486-436a-a3c0-3e6622f76214",
   "metadata": {},
   "source": [
    "Funciona! Así que vamos a intentar parsear el HTML del Washington Post manualmente.\n",
    "\n",
    "### Parseo del HTML (vía manual)"
   ]
  },
  {
   "cell_type": "code",
   "execution_count": 19,
   "id": "aaa30d53-7567-4c28-a94d-0b616810bab8",
   "metadata": {},
   "outputs": [
    {
     "name": "stdout",
     "output_type": "stream",
     "text": [
      "<html lang=\"en\" data-scrim-state=\"closed\"><head><link rel=\"icon\" href=\"https://www.washingtonpost.com/favicon.svg\" type=\"image/svg+xml\"><link rel=\"icon\" href=\"https://www.washingtonpost.com/touch-icon-iphone.png\" type=\"image/png\"><link rel=\"apple-touch-icon\" href=\"https://www.washingtonpost.com/touch-icon-iphone.png\"><link rel=\"apple-touch-icon\" sizes=\"152x152\" href=\"https://www.washingtonpost.com/touch-icon-ipad.png\"><link rel=\"apple-touch-icon\" sizes=\"167x167\" href=\"https://www.washingtonpost.\n"
     ]
    }
   ],
   "source": [
    "# 1. Copio el HTML completo del Washington Post desde la Web\n",
    "# 2. Abro un bloc de notas en la misma ubicación de este notebook, pego el HTML y lo guardo como archivo .html\n",
    "# 3. Leo el HTML desde este notebook\n",
    "\n",
    "with open(\"washington_post.html\", \"r\", encoding=\"utf-8\") as f:\n",
    "    html_doc = f.read()\n",
    "\n",
    "print(html_doc[:500])  # muestra solo los primeros 500 caracteres"
   ]
  },
  {
   "cell_type": "code",
   "execution_count": 18,
   "id": "ffd41ca6-150d-4e68-940b-e2ee0691dec4",
   "metadata": {},
   "outputs": [],
   "source": [
    "# Pruebo manualmente el primer H2 de la web:"
   ]
  },
  {
   "cell_type": "markdown",
   "id": "be62ee9f-c4ee-4e2a-a8f3-03b767e9e20a",
   "metadata": {},
   "source": [
    "<h2 class=\"wpds-c-iiQaMf wpds-c-iiQaMf-ibUhiPg-css\"><a data-pb-local-content-field=\"web_headline\" href=\"https://www.washingtonpost.com/politics/2025/09/04/tariffs-trump-supreme-court-appeal/\"><span>Trump officials ask Supreme Court to quickly allow sweeping tariffs</span></a></h2>"
   ]
  },
  {
   "cell_type": "markdown",
   "id": "70510da1-3995-4366-b1d8-0b874c65cfbd",
   "metadata": {},
   "source": [
    "La descripción de la 'class' del H2 traído es: \"wpds-c-iiQaMf wpds-c-iiQaMf-ibUhiPg-css\""
   ]
  },
  {
   "cell_type": "markdown",
   "id": "99a9c26d-bbdc-441b-b6f4-79304241942a",
   "metadata": {},
   "source": [
    "Ahora, el objetivo es armar un DataFrame de 2 columnas:\n",
    " - Columna con los títulos de la página de inicio\n",
    " - Columna con los respectivos links a las notas completas de dichos títulos"
   ]
  },
  {
   "cell_type": "markdown",
   "id": "6e589208-821c-4865-8172-176b6e101138",
   "metadata": {},
   "source": [
    "### Traer todos los elementos H2 del HTML\n",
    "(Se trae el código crudo y después se lo limpia, para quedarnos sólo con los títulos, los links y así armar el DataFrame)"
   ]
  },
  {
   "cell_type": "code",
   "execution_count": 22,
   "id": "626dc2ce-b1ff-4545-b54b-1ab15367c8e5",
   "metadata": {},
   "outputs": [
    {
     "name": "stdout",
     "output_type": "stream",
     "text": [
      "\n",
      " [<h2 class=\"wpds-c-iiQaMf wpds-c-iiQaMf-ibUhiPg-css\"><a data-pb-local-content-field=\"web_headline\" href=\"https://www.washingtonpost.com/health/2025/09/04/coronavirus-vaccines-mandates-state-divisions/\"><span>RFK Jr. drives a wedge between red and blue states on vaccines</span></a></h2>, <h2 class=\"wpds-c-iiQaMf wpds-c-iiQaMf-ihMULTC-css\"><a data-pb-local-content-field=\"web_headline\" href=\"https://www.washingtonpost.com/health/2025/09/04/rfk-vaccines-cdc-hearing/\"><span>Kennedy to be grilled on vaccine policy after firing of CDC director</span></a></h2>, <h2 class=\"wpds-c-iiQaMf wpds-c-iiQaMf-iiBDqjX-css\"><a data-pb-local-content-field=\"web_headline\" href=\"https://www.washingtonpost.com/politics/2025/09/04/tariffs-trump-supreme-court-appeal/\"><span>Trump officials ask Supreme Court to quickly allow sweeping tariffs</span></a></h2>, <h2 class=\"wpds-c-iiQaMf wpds-c-iiQaMf-ihMULTC-css\"><a data-pb-local-content-field=\"web_headline\" href=\"https://www.washingtonpost.com/business/2025/09/04/trump-tariffs-imports-products-prices/\"><span>See where tariffs are driving up prices on household items for now</span></a></h2>, <h2 class=\"wpds-c-iiQaMf wpds-c-iiQaMf-ihMULTC-css\"><a data-pb-local-content-field=\"web_headline\" href=\"https://www.washingtonpost.com/world/2025/09/04/india-us-trump-modi-tariffs-trade/\"><span>Inside the Trump team’s conflicting efforts to mend ties with India</span></a></h2>, <h2 class=\"wpds-c-iiQaMf wpds-c-iiQaMf-ibUhiPg-css\"><a data-pb-local-content-field=\"web_headline\" href=\"https://www.washingtonpost.com/world/interactive/2025/pigeon-racing-china-crime-belgium/\"><span>The pigeon heist: How million-dollar racing birds became the target of organized crime</span></a></h2>, <h2 class=\"wpds-c-iiQaMf wpds-c-iiQaMf-ibUhiPg-css\"><a data-pb-local-content-field=\"web_headline\" href=\"https://www.washingtonpost.com/dc-md-va/2025/09/03/house-gop-weighing-bills-remove-elected-dc-ag-overhaul-justice-policies/\"><span>House GOP weighing bills to remove elected D.C. attorney general, overhaul justice policies</span></a></h2>, <h2 class=\"wpds-c-iiQaMf wpds-c-iiQaMf-ihMULTC-css\"><a data-pb-local-content-field=\"web_headline\" href=\"https://www.washingtonpost.com/dc-md-va/2025/09/03/trump-dc-court-community-organizers/\"><span>At D.C. Superior Court, a system up at all hours under Trump’s order</span></a></h2>, <h2 class=\"wpds-c-iiQaMf wpds-c-iiQaMf-ihMULTC-css\"><a data-pb-local-content-field=\"web_headline\" href=\"https://www.washingtonpost.com/national-security/2025/09/03/national-guard-dc/\"><span>National Guard deployment in D.C. expected to be extended for months</span></a></h2>, <h2 class=\"wpds-c-iiQaMf wpds-c-iiQaMf-ihMULTC-css\"><a data-pb-local-content-field=\"web_headline\" href=\"https://www.washingtonpost.com/politics/2025/09/03/trump-policing-red-states-new-orleans/\"><span>Trump floats sending law enforcement to New Orleans, in a friendlier state</span></a></h2>, <h2 class=\"wpds-c-iiQaMf wpds-c-iiQaMf-ibUhiPg-css\"><a data-pb-local-content-field=\"web_headline\" href=\"https://www.washingtonpost.com/obituaries/2025/09/04/giorgio-armani-dead/\"><span>Giorgio Armani, whose streamlined fashions ruled the red carpet, dies at 91</span></a></h2>, <h2 class=\"wpds-c-iiQaMf wpds-c-iiQaMf-ibUhiPg-css\"><a data-pb-local-content-field=\"web_headline\" href=\"https://www.washingtonpost.com/climate-environment/interactive/2025/plastic-chemicals-phthalates-pregnancy-infertility/\"><span>The health risks from plastics almost nobody knows about</span></a></h2>, <h2 class=\"wpds-c-iiQaMf wpds-c-iiQaMf-iiBDqjX-css\"><a data-pb-local-content-field=\"web_headline\" href=\"https://www.washingtonpost.com/food/2025/09/04/best-frozen-pizza-taste-test/\"><span>What’s the best frozen pizza brand? Our taste test found a clear winner.</span></a></h2>, <h2 class=\"wpds-c-iiQaMf wpds-c-iiQaMf-ihMULTC-css\"><a data-pb-local-content-field=\"web_headline\" href=\"https://www.washingtonpost.com/ask-the-post-ai/\"><span>Answers to your questions, powered by our reporting</span></a></h2>, <h2 class=\"wpds-c-iiQaMf wpds-c-iiQaMf-ibUhiPg-css\"><a data-pb-local-content-field=\"web_headline\" href=\"https://www.washingtonpost.com/opinions/2025/09/04/labor-shortage-immigrant-workers-green-card/\"><span>The labor shortage is worsening. Iron cards are the answer.</span></a></h2>, <h2 class=\"wpds-c-iiQaMf wpds-c-iiQaMf-ihMULTC-css\"><a data-pb-local-content-field=\"web_headline\" href=\"https://www.washingtonpost.com/opinions/2025/09/04/ro-khanna-pennsylvania-hometown-bucks-county/\"><span>A Democratic dark horse visited Pennsylvania. Workers’ message was simple.</span></a></h2>, <h2 class=\"wpds-c-iiQaMf wpds-c-iiQaMf-ihMULTC-css\"><a data-pb-local-content-field=\"web_headline\" href=\"https://www.washingtonpost.com/opinions/2025/09/04/ai-china-latin-america-competition/\"><span>How to counter China’s AI push in Latin America</span></a></h2>, <h2 class=\"wpds-c-iiQaMf wpds-c-iiQaMf-ihMULTC-css\"><a data-pb-local-content-field=\"web_headline\" href=\"https://www.washingtonpost.com/opinions/2025/09/04/grand-jury-nullification-jeanine-pirro-sandwhich/\"><span>D.C. grand jurors are flexing their constitutional muscle  </span></a></h2>, <h2 class=\"wpds-c-iiQaMf wpds-c-iiQaMf-ihMULTC-css\"><a data-pb-local-content-field=\"web_headline\" href=\"https://www.washingtonpost.com/opinions/2025/09/03/alien-enemies-act-venezuela-trump/\"><span>Conservative court says Trump lacks immigration war powers. That could change.</span></a></h2>, <h2 class=\"wpds-c-iiQaMf wpds-c-iiQaMf-ihMULTC-css\"><a data-pb-local-content-field=\"web_headline\" href=\"https://www.washingtonpost.com/opinions/2025/09/04/malaysia-anwar-ibrahim-affirmative-action-dei/\"><span>A push for equality that no one wants anymore</span></a></h2>, <h2 class=\"wpds-c-iiQaMf wpds-c-iiQaMf-ihMULTC-css\"><a data-pb-local-content-field=\"web_headline\" href=\"https://www.washingtonpost.com/opinions/interactive/2025/elections-virginia-new-jersey-new-york-spanberger-sherrill-mamdani/\"><span>Off-year elections: Which party has the edge?</span></a></h2>, <h2 class=\"wpds-c-iiQaMf wpds-c-iiQaMf-ihMULTC-css\"><a data-pb-local-content-field=\"web_headline\" href=\"https://www.washingtonpost.com/opinions/2025/09/03/bowser-trump-dc-police-cooperation/\"><span>Bowser puts D.C. first by cooperating with Trump on public safety</span></a></h2>, <h2 id=\"ot-pc-title\">Do Not Sell or Share My Personal Data</h2>]\n"
     ]
    }
   ],
   "source": [
    "# 1. Leer el HTML desde tu archivo\n",
    "with open(\"washington_post.html\", \"r\", encoding=\"utf-8\") as f:\n",
    "    contenido = f.read()\n",
    "\n",
    "# 2. Crear el objeto BeautifulSoup\n",
    "soup = BeautifulSoup(contenido, \"html.parser\")\n",
    "\n",
    "# 3. Buscar todos los elementos <h2>\n",
    "h2_elements = soup.find_all(\"h2\")\n",
    "\n",
    "# 4. Mostrar el resultado\n",
    "print(\"\\n\", h2_elements)"
   ]
  },
  {
   "cell_type": "code",
   "execution_count": 54,
   "id": "4ce8aa87-39c0-4a50-95b9-15bf1db605a0",
   "metadata": {},
   "outputs": [
    {
     "data": {
      "text/html": [
       "<div>\n",
       "<style scoped>\n",
       "    .dataframe tbody tr th:only-of-type {\n",
       "        vertical-align: middle;\n",
       "    }\n",
       "\n",
       "    .dataframe tbody tr th {\n",
       "        vertical-align: top;\n",
       "    }\n",
       "\n",
       "    .dataframe thead th {\n",
       "        text-align: right;\n",
       "    }\n",
       "</style>\n",
       "<table border=\"1\" class=\"dataframe\">\n",
       "  <thead>\n",
       "    <tr style=\"text-align: right;\">\n",
       "      <th></th>\n",
       "      <th>Titulo</th>\n",
       "      <th>Link</th>\n",
       "    </tr>\n",
       "  </thead>\n",
       "  <tbody>\n",
       "    <tr>\n",
       "      <th>0</th>\n",
       "      <td>RFK Jr. drives a wedge between red and blue st...</td>\n",
       "      <td>https://www.washingtonpost.com/health/2025/09/...</td>\n",
       "    </tr>\n",
       "    <tr>\n",
       "      <th>1</th>\n",
       "      <td>Kennedy to be grilled on vaccine policy after ...</td>\n",
       "      <td>https://www.washingtonpost.com/health/2025/09/...</td>\n",
       "    </tr>\n",
       "    <tr>\n",
       "      <th>2</th>\n",
       "      <td>Trump officials ask Supreme Court to quickly a...</td>\n",
       "      <td>https://www.washingtonpost.com/politics/2025/0...</td>\n",
       "    </tr>\n",
       "    <tr>\n",
       "      <th>3</th>\n",
       "      <td>See where tariffs are driving up prices on hou...</td>\n",
       "      <td>https://www.washingtonpost.com/business/2025/0...</td>\n",
       "    </tr>\n",
       "    <tr>\n",
       "      <th>4</th>\n",
       "      <td>Inside the Trump team’s conflicting efforts to...</td>\n",
       "      <td>https://www.washingtonpost.com/world/2025/09/0...</td>\n",
       "    </tr>\n",
       "    <tr>\n",
       "      <th>5</th>\n",
       "      <td>The pigeon heist: How million-dollar racing bi...</td>\n",
       "      <td>https://www.washingtonpost.com/world/interacti...</td>\n",
       "    </tr>\n",
       "    <tr>\n",
       "      <th>6</th>\n",
       "      <td>House GOP weighing bills to remove elected D.C...</td>\n",
       "      <td>https://www.washingtonpost.com/dc-md-va/2025/0...</td>\n",
       "    </tr>\n",
       "    <tr>\n",
       "      <th>7</th>\n",
       "      <td>At D.C. Superior Court, a system up at all hou...</td>\n",
       "      <td>https://www.washingtonpost.com/dc-md-va/2025/0...</td>\n",
       "    </tr>\n",
       "    <tr>\n",
       "      <th>8</th>\n",
       "      <td>National Guard deployment in D.C. expected to ...</td>\n",
       "      <td>https://www.washingtonpost.com/national-securi...</td>\n",
       "    </tr>\n",
       "    <tr>\n",
       "      <th>9</th>\n",
       "      <td>Trump floats sending law enforcement to New Or...</td>\n",
       "      <td>https://www.washingtonpost.com/politics/2025/0...</td>\n",
       "    </tr>\n",
       "    <tr>\n",
       "      <th>10</th>\n",
       "      <td>Giorgio Armani, whose streamlined fashions rul...</td>\n",
       "      <td>https://www.washingtonpost.com/obituaries/2025...</td>\n",
       "    </tr>\n",
       "    <tr>\n",
       "      <th>11</th>\n",
       "      <td>The health risks from plastics almost nobody k...</td>\n",
       "      <td>https://www.washingtonpost.com/climate-environ...</td>\n",
       "    </tr>\n",
       "    <tr>\n",
       "      <th>12</th>\n",
       "      <td>What’s the best frozen pizza brand? Our taste ...</td>\n",
       "      <td>https://www.washingtonpost.com/food/2025/09/04...</td>\n",
       "    </tr>\n",
       "    <tr>\n",
       "      <th>13</th>\n",
       "      <td>Answers to your questions, powered by our repo...</td>\n",
       "      <td>https://www.washingtonpost.com/ask-the-post-ai/</td>\n",
       "    </tr>\n",
       "    <tr>\n",
       "      <th>14</th>\n",
       "      <td>The labor shortage is worsening. Iron cards ar...</td>\n",
       "      <td>https://www.washingtonpost.com/opinions/2025/0...</td>\n",
       "    </tr>\n",
       "    <tr>\n",
       "      <th>15</th>\n",
       "      <td>A Democratic dark horse visited Pennsylvania. ...</td>\n",
       "      <td>https://www.washingtonpost.com/opinions/2025/0...</td>\n",
       "    </tr>\n",
       "    <tr>\n",
       "      <th>16</th>\n",
       "      <td>How to counter China’s AI push in Latin America</td>\n",
       "      <td>https://www.washingtonpost.com/opinions/2025/0...</td>\n",
       "    </tr>\n",
       "    <tr>\n",
       "      <th>17</th>\n",
       "      <td>D.C. grand jurors are flexing their constituti...</td>\n",
       "      <td>https://www.washingtonpost.com/opinions/2025/0...</td>\n",
       "    </tr>\n",
       "    <tr>\n",
       "      <th>18</th>\n",
       "      <td>Conservative court says Trump lacks immigratio...</td>\n",
       "      <td>https://www.washingtonpost.com/opinions/2025/0...</td>\n",
       "    </tr>\n",
       "    <tr>\n",
       "      <th>19</th>\n",
       "      <td>A push for equality that no one wants anymore</td>\n",
       "      <td>https://www.washingtonpost.com/opinions/2025/0...</td>\n",
       "    </tr>\n",
       "    <tr>\n",
       "      <th>20</th>\n",
       "      <td>Off-year elections: Which party has the edge?</td>\n",
       "      <td>https://www.washingtonpost.com/opinions/intera...</td>\n",
       "    </tr>\n",
       "    <tr>\n",
       "      <th>21</th>\n",
       "      <td>Bowser puts D.C. first by cooperating with Tru...</td>\n",
       "      <td>https://www.washingtonpost.com/opinions/2025/0...</td>\n",
       "    </tr>\n",
       "    <tr>\n",
       "      <th>22</th>\n",
       "      <td>Do Not Sell or Share My Personal Data</td>\n",
       "      <td>None</td>\n",
       "    </tr>\n",
       "  </tbody>\n",
       "</table>\n",
       "</div>"
      ],
      "text/plain": [
       "                                               Titulo  \\\n",
       "0   RFK Jr. drives a wedge between red and blue st...   \n",
       "1   Kennedy to be grilled on vaccine policy after ...   \n",
       "2   Trump officials ask Supreme Court to quickly a...   \n",
       "3   See where tariffs are driving up prices on hou...   \n",
       "4   Inside the Trump team’s conflicting efforts to...   \n",
       "5   The pigeon heist: How million-dollar racing bi...   \n",
       "6   House GOP weighing bills to remove elected D.C...   \n",
       "7   At D.C. Superior Court, a system up at all hou...   \n",
       "8   National Guard deployment in D.C. expected to ...   \n",
       "9   Trump floats sending law enforcement to New Or...   \n",
       "10  Giorgio Armani, whose streamlined fashions rul...   \n",
       "11  The health risks from plastics almost nobody k...   \n",
       "12  What’s the best frozen pizza brand? Our taste ...   \n",
       "13  Answers to your questions, powered by our repo...   \n",
       "14  The labor shortage is worsening. Iron cards ar...   \n",
       "15  A Democratic dark horse visited Pennsylvania. ...   \n",
       "16    How to counter China’s AI push in Latin America   \n",
       "17  D.C. grand jurors are flexing their constituti...   \n",
       "18  Conservative court says Trump lacks immigratio...   \n",
       "19      A push for equality that no one wants anymore   \n",
       "20      Off-year elections: Which party has the edge?   \n",
       "21  Bowser puts D.C. first by cooperating with Tru...   \n",
       "22              Do Not Sell or Share My Personal Data   \n",
       "\n",
       "                                                 Link  \n",
       "0   https://www.washingtonpost.com/health/2025/09/...  \n",
       "1   https://www.washingtonpost.com/health/2025/09/...  \n",
       "2   https://www.washingtonpost.com/politics/2025/0...  \n",
       "3   https://www.washingtonpost.com/business/2025/0...  \n",
       "4   https://www.washingtonpost.com/world/2025/09/0...  \n",
       "5   https://www.washingtonpost.com/world/interacti...  \n",
       "6   https://www.washingtonpost.com/dc-md-va/2025/0...  \n",
       "7   https://www.washingtonpost.com/dc-md-va/2025/0...  \n",
       "8   https://www.washingtonpost.com/national-securi...  \n",
       "9   https://www.washingtonpost.com/politics/2025/0...  \n",
       "10  https://www.washingtonpost.com/obituaries/2025...  \n",
       "11  https://www.washingtonpost.com/climate-environ...  \n",
       "12  https://www.washingtonpost.com/food/2025/09/04...  \n",
       "13    https://www.washingtonpost.com/ask-the-post-ai/  \n",
       "14  https://www.washingtonpost.com/opinions/2025/0...  \n",
       "15  https://www.washingtonpost.com/opinions/2025/0...  \n",
       "16  https://www.washingtonpost.com/opinions/2025/0...  \n",
       "17  https://www.washingtonpost.com/opinions/2025/0...  \n",
       "18  https://www.washingtonpost.com/opinions/2025/0...  \n",
       "19  https://www.washingtonpost.com/opinions/2025/0...  \n",
       "20  https://www.washingtonpost.com/opinions/intera...  \n",
       "21  https://www.washingtonpost.com/opinions/2025/0...  \n",
       "22                                               None  "
      ]
     },
     "execution_count": 54,
     "metadata": {},
     "output_type": "execute_result"
    }
   ],
   "source": [
    "titulos = []\n",
    "links = []\n",
    "\n",
    "for h2 in h2_elements:\n",
    "    h2_text = h2.text.strip()\n",
    "    a_tag = h2.find(\"a\")\n",
    "    if a_tag:\n",
    "        h2_link = a_tag.get('href')\n",
    "    else:\n",
    "        h2_link = None\n",
    "    titulos.append(h2_text)\n",
    "    links.append(h2_link)\n",
    "\n",
    "dfext = pd.DataFrame({\"Titulo\": titulos, \"Link\": links})\n",
    "dfext"
   ]
  },
  {
   "cell_type": "markdown",
   "id": "f9135dc5-25c1-4653-a12b-eab9270d579e",
   "metadata": {},
   "source": [
    "Como no puedo ver los links completos en el output del DF, los desempaco y reviso si son funcionales."
   ]
  },
  {
   "cell_type": "code",
   "execution_count": 60,
   "id": "c9ac38b7-6ac3-43b3-8949-d42868dc332a",
   "metadata": {},
   "outputs": [
    {
     "data": {
      "text/plain": [
       "['https://www.washingtonpost.com/health/2025/09/04/coronavirus-vaccines-mandates-state-divisions/',\n",
       " 'https://www.washingtonpost.com/health/2025/09/04/rfk-vaccines-cdc-hearing/',\n",
       " 'https://www.washingtonpost.com/politics/2025/09/04/tariffs-trump-supreme-court-appeal/',\n",
       " 'https://www.washingtonpost.com/business/2025/09/04/trump-tariffs-imports-products-prices/',\n",
       " 'https://www.washingtonpost.com/world/2025/09/04/india-us-trump-modi-tariffs-trade/',\n",
       " 'https://www.washingtonpost.com/world/interactive/2025/pigeon-racing-china-crime-belgium/',\n",
       " 'https://www.washingtonpost.com/dc-md-va/2025/09/03/house-gop-weighing-bills-remove-elected-dc-ag-overhaul-justice-policies/',\n",
       " 'https://www.washingtonpost.com/dc-md-va/2025/09/03/trump-dc-court-community-organizers/',\n",
       " 'https://www.washingtonpost.com/national-security/2025/09/03/national-guard-dc/',\n",
       " 'https://www.washingtonpost.com/politics/2025/09/03/trump-policing-red-states-new-orleans/',\n",
       " 'https://www.washingtonpost.com/obituaries/2025/09/04/giorgio-armani-dead/',\n",
       " 'https://www.washingtonpost.com/climate-environment/interactive/2025/plastic-chemicals-phthalates-pregnancy-infertility/',\n",
       " 'https://www.washingtonpost.com/food/2025/09/04/best-frozen-pizza-taste-test/',\n",
       " 'https://www.washingtonpost.com/ask-the-post-ai/',\n",
       " 'https://www.washingtonpost.com/opinions/2025/09/04/labor-shortage-immigrant-workers-green-card/',\n",
       " 'https://www.washingtonpost.com/opinions/2025/09/04/ro-khanna-pennsylvania-hometown-bucks-county/',\n",
       " 'https://www.washingtonpost.com/opinions/2025/09/04/ai-china-latin-america-competition/',\n",
       " 'https://www.washingtonpost.com/opinions/2025/09/04/grand-jury-nullification-jeanine-pirro-sandwhich/',\n",
       " 'https://www.washingtonpost.com/opinions/2025/09/03/alien-enemies-act-venezuela-trump/',\n",
       " 'https://www.washingtonpost.com/opinions/2025/09/04/malaysia-anwar-ibrahim-affirmative-action-dei/',\n",
       " 'https://www.washingtonpost.com/opinions/interactive/2025/elections-virginia-new-jersey-new-york-spanberger-sherrill-mamdani/',\n",
       " 'https://www.washingtonpost.com/opinions/2025/09/03/bowser-trump-dc-police-cooperation/',\n",
       " None]"
      ]
     },
     "execution_count": 60,
     "metadata": {},
     "output_type": "execute_result"
    }
   ],
   "source": [
    "dfext['Link'].to_list() # Sin el Método to_list(), el notebook imprime sólo una parte de los links, y de esa forma no funcionan"
   ]
  },
  {
   "cell_type": "markdown",
   "id": "fe15eb0f-314b-4b38-8f19-8ebfe484f88e",
   "metadata": {},
   "source": [
    "Listo! Ya tenemos creado el DataFrame de los titulares extranjeros con los links funcionando correctamente."
   ]
  }
 ],
 "metadata": {
  "kernelspec": {
   "display_name": "primernetorno",
   "language": "python",
   "name": "primernetorno"
  },
  "language_info": {
   "codemirror_mode": {
    "name": "ipython",
    "version": 3
   },
   "file_extension": ".py",
   "mimetype": "text/x-python",
   "name": "python",
   "nbconvert_exporter": "python",
   "pygments_lexer": "ipython3",
   "version": "3.13.2"
  }
 },
 "nbformat": 4,
 "nbformat_minor": 5
}
