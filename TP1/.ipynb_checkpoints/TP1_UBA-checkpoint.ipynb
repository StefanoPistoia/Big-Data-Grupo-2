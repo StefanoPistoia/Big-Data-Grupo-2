{
 "cells": [
  {
   "cell_type": "markdown",
   "metadata": {
    "collapsed": true,
    "id": "Dh8MkXaG-c9Y",
    "jupyter": {
     "outputs_hidden": true
    }
   },
   "source": [
    "# Big Data y Machine Learning (UBA) -  2025\n",
    "\n",
    "## Trabajo Práctico 1: Jugando con APIs y WebScraping "
   ]
  },
  {
   "cell_type": "markdown",
   "metadata": {
    "id": "RhBlm6mZ-c9e"
   },
   "source": [
    "### Reglas de formato y presentación\n",
    "- El trabajo debe estar debidamente documentado comentado (utilizando #) para que tanto los docentes como sus compañeros puedan comprender el código fácilmente.\n",
    "\n",
    "- El mismo debe ser completado en este Jupyter Notebook y entregado como tal, es decir en un archivo .ipynb\n"
   ]
  },
  {
   "cell_type": "markdown",
   "metadata": {
    "id": "ZEjGaa4U-c9g"
   },
   "source": [
    "### Fecha de entrega:\n",
    "<font color=red>Viernes 5 de Septiembre a las 13:00 hs</font> "
   ]
  },
  {
   "cell_type": "markdown",
   "metadata": {
    "id": "N9TU2y7E-c9h"
   },
   "source": [
    "### Modalidad de entrega\n",
    "- Al finalizar el trabajo práctico deben hacer un último <i>commit</i> en su repositorio de GitHub llamado “Entrega final del tp”. \n",
    "- Asegurense de haber creado una carpeta llamada TP1. Este Jupyter Notebook y el correspondiente al TP1 deben estar dentro de esa carpeta.\n",
    "- También deben enviar el link de su repositorio -para que pueda ser clonado y corregido- a mi correo 25RO35480961@campus.economicas.uba.ar. Usar de asunto de email <i>\"Big Data - TP 1 - Grupo #\"</i> y nombrar el archivo <i>\"TP1_Grupo #\"</i> donde # es el número de grupo que le fue asignado.\n",
    "- La última versión en el repositorio es la que será evaluada. Por lo que es importante que: \n",
    "    - No envien el correo hasta no haber terminado y estar seguros de que han hecho el <i>commit y push</i> a la versión final que quieren entregar. \n",
    "    - No hagan nuevos <i>push</i> despues de haber entregado su versión final. Esto generaría confusión acerca de que versión es la que quieren que se les corrija.\n",
    "- En resumen, la carpeta del repositorio debe incluir:\n",
    "    - El codigo\n",
    "    - Un documento Word (Parte A) donde esten las figuras y una breve descripción de las mismas.\n",
    "    - El excel con los links webscrappeados (Parte B)"
   ]
  },
  {
   "cell_type": "markdown",
   "metadata": {},
   "source": [
    "### Parte A"
   ]
  },
  {
   "cell_type": "markdown",
   "metadata": {
    "id": "ZXbrPraa-c9i"
   },
   "source": [
    "#### Ejercicio 1 - Jugando con APIs\n",
    "Usando la API del Series de Tiempo de la Republica Argentina [link](https://datosgobar.github.io/series-tiempo-ar-api/applications/) , obtener dos series de indicadores del Ministerio de Agricultura, Ganadería y Pesca. En total, dicho Ministerio tiene 72 series anuales y pueden buscar dos serie de indicadores de su interés."
   ]
  },
  {
   "cell_type": "code",
   "execution_count": 15,
   "metadata": {},
   "outputs": [
    {
     "name": "stdout",
     "output_type": "stream",
     "text": [
      "   indice_tiempo  total_general\n",
      "0     1990-01-01     544910.900\n",
      "1     1991-01-01     630005.500\n",
      "2     1992-01-01     730953.800\n",
      "3     1993-01-01     970079.000\n",
      "4     1994-01-01     981753.500\n",
      "5     1995-01-01    1146131.000\n",
      "6     1996-01-01    1247396.000\n",
      "7     1997-01-01    1340731.000\n",
      "8     1998-01-01    1116823.800\n",
      "9     1999-01-01    1017458.000\n",
      "10    2000-01-01     855171.000\n",
      "11    2001-01-01     878107.000\n",
      "12    2002-01-01     882914.600\n",
      "13    2003-01-01     839288.000\n",
      "14    2004-01-01     873098.900\n",
      "15    2005-01-01     861860.500\n",
      "16    2006-01-01    1069947.800\n",
      "17    2007-01-01     916167.100\n",
      "18    2008-01-01     933231.000\n",
      "19    2009-01-01     775352.500\n",
      "20    2010-01-01     764960.100\n",
      "21    2011-01-01     733061.500\n",
      "22    2012-01-01     691476.800\n",
      "23    2013-01-01     822068.374\n",
      "24    2014-01-01     791152.400\n",
      "25    2015-01-01     767649.200\n",
      "26    2016-01-01     705777.900\n",
      "27    2017-01-01     779125.100\n",
      "28    2018-01-01     791636.100\n",
      "29    2019-01-01     781304.300\n",
      "30    2020-01-01     789745.500\n",
      "31    2021-01-01     798052.700\n",
      "32    2022-01-01     797893.800\n",
      "33    2023-01-01     781378.600\n",
      "34    2024-01-01     822368.700\n",
      "   indice_tiempo  maiz_toneladadas\n",
      "0     1979-01-01         6400000.0\n",
      "1     1980-01-01        12900000.0\n",
      "2     1981-01-01         9600000.0\n",
      "3     1982-01-01         9000000.0\n",
      "4     1983-01-01         9500000.0\n",
      "5     1984-01-01        11900000.0\n",
      "6     1985-01-01        12100000.0\n",
      "7     1986-01-01         9250000.0\n",
      "8     1987-01-01         9200000.0\n",
      "9     1988-01-01         4900000.0\n",
      "10    1989-01-01         5400000.0\n",
      "11    1990-01-01         7684800.0\n",
      "12    1991-01-01        10700500.0\n",
      "13    1992-01-01        10901000.0\n",
      "14    1993-01-01        10360000.0\n",
      "15    1994-01-01        11404041.0\n",
      "16    1995-01-01        10518290.0\n",
      "17    1996-01-01        15536820.0\n",
      "18    1997-01-01        19360656.0\n",
      "19    1998-01-01        13504100.0\n",
      "20    1999-01-01        16780650.0\n",
      "21    2000-01-01        15360000.0\n",
      "22    2001-01-01        14710000.0\n",
      "23    2002-01-01        15040000.0\n",
      "24    2003-01-01        15000000.0\n",
      "25    2004-01-01        20500000.0\n",
      "26    2005-01-01        14500000.0\n",
      "27    2006-01-01        21800000.0\n",
      "28    2007-01-01        22000000.0\n",
      "29    2008-01-01        13121000.0\n",
      "30    2009-01-01        22663000.0\n",
      "31    2010-01-01        23800000.0\n",
      "32    2011-01-01        21200000.0\n",
      "33    2012-01-01        32100000.0\n",
      "34    2013-01-01        33000000.0\n",
      "35    2014-01-01        33800000.0\n",
      "36    2015-01-01        39800000.0\n",
      "37    2016-01-01        49500000.0\n",
      "38    2017-01-01        43460000.0\n",
      "39    2018-01-01        57000000.0\n",
      "40    2019-01-01        58500000.0\n",
      "41    2020-01-01        60500000.0\n",
      "42    2021-01-01        59037000.0\n",
      "43    2022-01-01        41409400.0\n",
      "44    2023-01-01        57494500.0\n",
      "45    2024-01-01        52000000.0\n"
     ]
    },
    {
     "data": {
      "text/plain": [
       "indice_tiempo     object\n",
       "total_general    float64\n",
       "dtype: object"
      ]
     },
     "execution_count": 15,
     "metadata": {},
     "output_type": "execute_result"
    }
   ],
   "source": [
    "# Resolver acá\n",
    "\n",
    "#cargo libreria\n",
    "import pandas as pd\n",
    "\n",
    "# Cargo de la base \n",
    "pesca = pd.read_csv(\"https://apis.datos.gob.ar/series/api/series?ids=39.1_TG_0_A_13&header=titles&format=csv\")\n",
    "maiz = pd.read_csv(\"https://apis.datos.gob.ar/series/api/series?ids=34.2_MTMAI_0_P_16&header=titles&format=csv\")\n",
    "\n",
    "#verifico que se hayan cargado correctamente\n",
    "print(pesca)\n",
    "print(maiz)"
   ]
  },
  {
   "cell_type": "markdown",
   "metadata": {},
   "source": [
    "#### Ejercicio 2 - Repaso de Pandas\n",
    "Realicen una estadistica descriptiva ambas series de indicadores del Ministerio de Ganaderia y  presente en una tabla en su reporte. Dicha tabla debe mostrar: numero de observaciones, media, desvío standard, min, p25, mediana, p75 y max. Comente la tabla en **el reporte**."
   ]
  },
  {
   "cell_type": "code",
   "execution_count": 12,
   "metadata": {},
   "outputs": [],
   "source": [
    "# Resolver acá\n",
    "\n",
    "\n",
    "pesca_resumen = pesca.describe()\n",
    "maiz_resumen = maiz.describe()\n",
    "\n",
    "tabla = pd.concat(\n",
    "    [pesca_resumen, maiz_resumen],\n",
    "    axis=1\n",
    ")\n",
    "\n",
    "tabla.to_excel(\"tabla_parteA.xlsx\", index=False)"
   ]
  },
  {
   "cell_type": "markdown",
   "metadata": {},
   "source": [
    "#### Ejercicio 3 - Practicando con Matplotlib\n",
    "Armen dos gráficos de tendencia distintos usando la librería Matplotlib (repasen Clase 3). Uno programandolo con el estilo *pyplot* y otro gráfico de estilo *orientada a objetos*.\n",
    "Recuerde los principios de visualización de datos y comente dichas figuras en su reporte."
   ]
  },
  {
   "cell_type": "code",
   "execution_count": 24,
   "metadata": {},
   "outputs": [
    {
     "data": {
      "image/png": "[encoded data removed]",
      "text/plain": [
       "<Figure size 800x400 with 1 Axes>"
      ]
     },
     "metadata": {},
     "output_type": "display_data"
    }
   ],
   "source": [
    "# Resolver acá estilo pyplot\n",
    "import numpy as np\n",
    "import matplotlib.pyplot as plt\n",
    "\n",
    "pesca['indice_tiempo'] = pd.to_datetime(pesca['indice_tiempo'])\n",
    "\n",
    "plt.figure(figsize=(8,4))\n",
    "plt.plot(pesca['indice_tiempo'], pesca['total_general'])\n",
    "plt.title('Tendencia – Pesca')\n",
    "plt.xlabel('Fecha')\n",
    "plt.ylabel('Valor')\n",
    "plt.grid(True)\n",
    "plt.tight_layout()\n",
    "plt.show()\n",
    "\n"
   ]
  },
  {
   "cell_type": "code",
   "execution_count": null,
   "metadata": {},
   "outputs": [],
   "source": [
    "# Resolver acá estilo orientado-objetos \n",
    "# Tip: aprovechar este estilo de programar una figura para hacerlo más lindo \n",
    "\n",
    "maiz['indice_tiempo'] = pd.to_datetime(maiz['indice_tiempo'])\n",
    "\n",
    "# Creamos la figura y los axes\n",
    "fig, ax = plt.subplots()  # Crear objetos\n"
   ]
  },
  {
   "cell_type": "markdown",
   "metadata": {},
   "source": [
    "### Parte B"
   ]
  },
  {
   "cell_type": "markdown",
   "metadata": {},
   "source": [
    "#### Ejercicio 4 - Documentando noticias locales y en el extranjero\n",
    "Eligan dos sitios web de noticias: uno de Argentina y uno del extranjero (puede ser en castellano o en inglés como el *New York Times*).\n",
    "\n",
    "Utilicen herramientas de webscraping para obtener los **links** de las noticias de la portada en ambos diarios. Guarden cada titular con los links obtenidos en un dataframe. Por lo tanto, debe quedarles un dataframe de 4 columnas: una columna para noticias locales, otra para su link, otra columna de noticias extranjeras y una ultima columna de sus links. Luego, expórtenlo a un archivo de excel.\n",
    "\n",
    "En el reporte este esta parte B:\n",
    "1) Inserten una captura de pantalla de la pagina del diario extranjero y en Argentina de las cuales hacen el ejercicio de extraer titulares y sus links correspondientes. Esto servirá al momento de la corrección para verificar que los links obtenidos hacen referencia a las noticias de ese día y hora.\n",
    "2) Comenten brevemente (1 párrafo) las diferencias/similitudes al extraer titulares en diarios de Argentina versus diario extranjero\n",
    "3) Comenten brevemente (1 párrafo) las dificultades y cómo resolvieron dichas dificultades.\n",
    "\n",
    "*Nota*: es posible que logren obtener los links a las noticias sin el dominio: por ejemplo \"https://www.lanacion.com.ar/\". De ser así, concatenen el dominio a la ruta del link obtenido, tal que se obtenga un link al que se pueda acceder. Es decir, que las cadenas de caracteres finales tendrán la forma: https://www.lanacion.com.ar/*texto_obtenido*)"
   ]
  },
  {
   "cell_type": "code",
   "execution_count": null,
   "metadata": {},
   "outputs": [],
   "source": [
    "# Resolver acá\n"
   ]
  }
 ],
 "metadata": {
  "anaconda-cloud": {},
  "colab": {
   "name": "TP1 - Parte 1.ipynb",
   "provenance": []
  },
  "kernelspec": {
   "display_name": "Python 3 (ipykernel)",
   "language": "python",
   "name": "python3"
  },
  "language_info": {
   "codemirror_mode": {
    "name": "ipython",
    "version": 3
   },
   "file_extension": ".py",
   "mimetype": "text/x-python",
   "name": "python",
   "nbconvert_exporter": "python",
   "pygments_lexer": "ipython3",
   "version": "3.13.5"
  }
 },
 "nbformat": 4,
 "nbformat_minor": 4
}
