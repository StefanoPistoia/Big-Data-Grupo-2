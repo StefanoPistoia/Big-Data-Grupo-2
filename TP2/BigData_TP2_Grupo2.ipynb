{
 "cells": [
  {
   "cell_type": "markdown",
   "id": "bf4d7cec-ec56-49f6-828e-ed8f37f5514d",
   "metadata": {},
   "source": [
    "# Trabajo Práctico N°2: \"Un primer encuentro con la EPH\""
   ]
  },
  {
   "cell_type": "markdown",
   "id": "541313d2-d72d-4bcd-a902-2c440f1b00df",
   "metadata": {},
   "source": [
    "## Parte I: Familiarizándonos con la base EPH y limpieza"
   ]
  },
  {
   "cell_type": "markdown",
   "id": "26291a15-0e12-4627-b0cb-3fffdbf769d4",
   "metadata": {},
   "source": [
    "### Elección de región y unificación de microdatos"
   ]
  },
  {
   "cell_type": "markdown",
   "id": "874f4090-43eb-4c0a-9a81-97db48fb557e",
   "metadata": {},
   "source": [
    "Región elegida: Noreste (código: 41)"
   ]
  },
  {
   "cell_type": "code",
   "execution_count": 3,
   "id": "de5b9b19-10eb-4694-901c-bd9bf41f26ba",
   "metadata": {},
   "outputs": [],
   "source": [
    "import os\n",
    "import numpy as np\n",
    "import pandas as pd\n",
    "import openpyxl as pyxl"
   ]
  },
  {
   "cell_type": "markdown",
   "id": "90eb04c4-b606-4629-beeb-7ca559c98f46",
   "metadata": {},
   "source": [
    "Comenzamos el proceso de recorte y limpieza de datos:"
   ]
  },
  {
   "cell_type": "code",
   "execution_count": 4,
   "id": "086ff04c-17da-428c-9442-c9d5b7d94aa0",
   "metadata": {},
   "outputs": [
    {
     "name": "stdout",
     "output_type": "stream",
     "text": [
      "C:\\Users\\franc\\Documents\\Facultad\\Big Data y Machine Learning\\TPs\\TP2\n"
     ]
    }
   ],
   "source": [
    "# Obtener la ruta del directorio actual \n",
    "ruta = os.getcwd()\n",
    "print(ruta)"
   ]
  },
  {
   "cell_type": "code",
   "execution_count": 5,
   "id": "f152eff4-2e04-41c4-985e-dad763a62e7e",
   "metadata": {},
   "outputs": [],
   "source": [
    "# Importación de bases de datos. Las rutas de acceso que se leen en el output de esta celda deben ser modificadas de acuerdo al directorio propio.\n",
    "\n",
    "db05_raw = pd.read_stata(r\"C:\\Users\\franc\\Documents\\Facultad\\Big Data y Machine Learning\\TPs\\TP2\\usu_individual_T105.dta\")\n",
    "db25_raw = pd.read_excel(r\"C:\\Users\\franc\\Documents\\Facultad\\Big Data y Machine Learning\\TPs\\TP2\\usu_individual_T125.xlsx\")"
   ]
  },
  {
   "cell_type": "code",
   "execution_count": 256,
   "id": "c6f3e655-8cdc-472b-bbd7-d7502d3d4c81",
   "metadata": {},
   "outputs": [
    {
     "data": {
      "text/html": [
       "<div>\n",
       "<style scoped>\n",
       "    .dataframe tbody tr th:only-of-type {\n",
       "        vertical-align: middle;\n",
       "    }\n",
       "\n",
       "    .dataframe tbody tr th {\n",
       "        vertical-align: top;\n",
       "    }\n",
       "\n",
       "    .dataframe thead th {\n",
       "        text-align: right;\n",
       "    }\n",
       "</style>\n",
       "<table border=\"1\" class=\"dataframe\">\n",
       "  <thead>\n",
       "    <tr style=\"text-align: right;\">\n",
       "      <th></th>\n",
       "      <th>nro_hogar</th>\n",
       "      <th>ano4</th>\n",
       "      <th>pondera</th>\n",
       "      <th>pp03d</th>\n",
       "      <th>pp3e_tot</th>\n",
       "      <th>pp3f_tot</th>\n",
       "      <th>pp04b2</th>\n",
       "      <th>pp04b3_mes</th>\n",
       "      <th>pp04b3_ano</th>\n",
       "      <th>pp04b3_dia</th>\n",
       "      <th>...</th>\n",
       "      <th>v9_m</th>\n",
       "      <th>v10_m</th>\n",
       "      <th>v11_m</th>\n",
       "      <th>v12_m</th>\n",
       "      <th>v18_m</th>\n",
       "      <th>v19_am</th>\n",
       "      <th>v21_m</th>\n",
       "      <th>t_vi</th>\n",
       "      <th>itf</th>\n",
       "      <th>ipcf</th>\n",
       "    </tr>\n",
       "  </thead>\n",
       "  <tbody>\n",
       "    <tr>\n",
       "      <th>count</th>\n",
       "      <td>47030.0</td>\n",
       "      <td>47030.0</td>\n",
       "      <td>47030.0</td>\n",
       "      <td>47030.0</td>\n",
       "      <td>47030.0</td>\n",
       "      <td>47030.0</td>\n",
       "      <td>47030.0</td>\n",
       "      <td>47030.0</td>\n",
       "      <td>47030.0</td>\n",
       "      <td>47030.0</td>\n",
       "      <td>...</td>\n",
       "      <td>47030.0</td>\n",
       "      <td>47030.0</td>\n",
       "      <td>47030.0</td>\n",
       "      <td>47030.0</td>\n",
       "      <td>47030.0</td>\n",
       "      <td>47030.0</td>\n",
       "      <td>47030.0</td>\n",
       "      <td>47030.0</td>\n",
       "      <td>47030.0</td>\n",
       "      <td>47030.0</td>\n",
       "    </tr>\n",
       "    <tr>\n",
       "      <th>mean</th>\n",
       "      <td>1.0</td>\n",
       "      <td>2005.0</td>\n",
       "      <td>495.0</td>\n",
       "      <td>0.0</td>\n",
       "      <td>15.0</td>\n",
       "      <td>1.0</td>\n",
       "      <td>0.0</td>\n",
       "      <td>0.0</td>\n",
       "      <td>0.0</td>\n",
       "      <td>0.0</td>\n",
       "      <td>...</td>\n",
       "      <td>0.0</td>\n",
       "      <td>1.0</td>\n",
       "      <td>1.0</td>\n",
       "      <td>9.0</td>\n",
       "      <td>2.0</td>\n",
       "      <td>0.0</td>\n",
       "      <td>7.0</td>\n",
       "      <td>79.0</td>\n",
       "      <td>1315.0</td>\n",
       "      <td>359.0</td>\n",
       "    </tr>\n",
       "    <tr>\n",
       "      <th>std</th>\n",
       "      <td>0.0</td>\n",
       "      <td>0.0</td>\n",
       "      <td>467.0</td>\n",
       "      <td>0.0</td>\n",
       "      <td>38.0</td>\n",
       "      <td>16.0</td>\n",
       "      <td>0.0</td>\n",
       "      <td>1.0</td>\n",
       "      <td>1.0</td>\n",
       "      <td>1.0</td>\n",
       "      <td>...</td>\n",
       "      <td>22.0</td>\n",
       "      <td>35.0</td>\n",
       "      <td>15.0</td>\n",
       "      <td>67.0</td>\n",
       "      <td>267.0</td>\n",
       "      <td>2.0</td>\n",
       "      <td>56.0</td>\n",
       "      <td>385.0</td>\n",
       "      <td>1365.0</td>\n",
       "      <td>443.0</td>\n",
       "    </tr>\n",
       "    <tr>\n",
       "      <th>min</th>\n",
       "      <td>1.0</td>\n",
       "      <td>2005.0</td>\n",
       "      <td>35.0</td>\n",
       "      <td>0.0</td>\n",
       "      <td>0.0</td>\n",
       "      <td>0.0</td>\n",
       "      <td>0.0</td>\n",
       "      <td>0.0</td>\n",
       "      <td>0.0</td>\n",
       "      <td>0.0</td>\n",
       "      <td>...</td>\n",
       "      <td>0.0</td>\n",
       "      <td>0.0</td>\n",
       "      <td>0.0</td>\n",
       "      <td>0.0</td>\n",
       "      <td>0.0</td>\n",
       "      <td>0.0</td>\n",
       "      <td>0.0</td>\n",
       "      <td>0.0</td>\n",
       "      <td>0.0</td>\n",
       "      <td>0.0</td>\n",
       "    </tr>\n",
       "    <tr>\n",
       "      <th>25%</th>\n",
       "      <td>1.0</td>\n",
       "      <td>2005.0</td>\n",
       "      <td>199.0</td>\n",
       "      <td>0.0</td>\n",
       "      <td>0.0</td>\n",
       "      <td>0.0</td>\n",
       "      <td>0.0</td>\n",
       "      <td>0.0</td>\n",
       "      <td>0.0</td>\n",
       "      <td>0.0</td>\n",
       "      <td>...</td>\n",
       "      <td>0.0</td>\n",
       "      <td>0.0</td>\n",
       "      <td>0.0</td>\n",
       "      <td>0.0</td>\n",
       "      <td>0.0</td>\n",
       "      <td>0.0</td>\n",
       "      <td>0.0</td>\n",
       "      <td>0.0</td>\n",
       "      <td>550.0</td>\n",
       "      <td>125.0</td>\n",
       "    </tr>\n",
       "    <tr>\n",
       "      <th>50%</th>\n",
       "      <td>1.0</td>\n",
       "      <td>2005.0</td>\n",
       "      <td>298.0</td>\n",
       "      <td>0.0</td>\n",
       "      <td>0.0</td>\n",
       "      <td>0.0</td>\n",
       "      <td>0.0</td>\n",
       "      <td>0.0</td>\n",
       "      <td>0.0</td>\n",
       "      <td>0.0</td>\n",
       "      <td>...</td>\n",
       "      <td>0.0</td>\n",
       "      <td>0.0</td>\n",
       "      <td>0.0</td>\n",
       "      <td>0.0</td>\n",
       "      <td>0.0</td>\n",
       "      <td>0.0</td>\n",
       "      <td>0.0</td>\n",
       "      <td>0.0</td>\n",
       "      <td>950.0</td>\n",
       "      <td>236.0</td>\n",
       "    </tr>\n",
       "    <tr>\n",
       "      <th>75%</th>\n",
       "      <td>1.0</td>\n",
       "      <td>2005.0</td>\n",
       "      <td>538.0</td>\n",
       "      <td>0.0</td>\n",
       "      <td>30.0</td>\n",
       "      <td>0.0</td>\n",
       "      <td>0.0</td>\n",
       "      <td>0.0</td>\n",
       "      <td>0.0</td>\n",
       "      <td>0.0</td>\n",
       "      <td>...</td>\n",
       "      <td>0.0</td>\n",
       "      <td>0.0</td>\n",
       "      <td>0.0</td>\n",
       "      <td>0.0</td>\n",
       "      <td>0.0</td>\n",
       "      <td>0.0</td>\n",
       "      <td>0.0</td>\n",
       "      <td>0.0</td>\n",
       "      <td>1660.0</td>\n",
       "      <td>442.0</td>\n",
       "    </tr>\n",
       "    <tr>\n",
       "      <th>max</th>\n",
       "      <td>6.0</td>\n",
       "      <td>2005.0</td>\n",
       "      <td>5707.0</td>\n",
       "      <td>9.0</td>\n",
       "      <td>999.0</td>\n",
       "      <td>999.0</td>\n",
       "      <td>6.0</td>\n",
       "      <td>99.0</td>\n",
       "      <td>99.0</td>\n",
       "      <td>99.0</td>\n",
       "      <td>...</td>\n",
       "      <td>3000.0</td>\n",
       "      <td>4000.0</td>\n",
       "      <td>1300.0</td>\n",
       "      <td>3000.0</td>\n",
       "      <td>50000.0</td>\n",
       "      <td>180.0</td>\n",
       "      <td>2500.0</td>\n",
       "      <td>50000.0</td>\n",
       "      <td>52050.0</td>\n",
       "      <td>13012.0</td>\n",
       "    </tr>\n",
       "  </tbody>\n",
       "</table>\n",
       "<p>8 rows × 46 columns</p>\n",
       "</div>"
      ],
      "text/plain": [
       "       nro_hogar     ano4  pondera    pp03d  pp3e_tot  pp3f_tot   pp04b2  \\\n",
       "count    47030.0  47030.0  47030.0  47030.0   47030.0   47030.0  47030.0   \n",
       "mean         1.0   2005.0    495.0      0.0      15.0       1.0      0.0   \n",
       "std          0.0      0.0    467.0      0.0      38.0      16.0      0.0   \n",
       "min          1.0   2005.0     35.0      0.0       0.0       0.0      0.0   \n",
       "25%          1.0   2005.0    199.0      0.0       0.0       0.0      0.0   \n",
       "50%          1.0   2005.0    298.0      0.0       0.0       0.0      0.0   \n",
       "75%          1.0   2005.0    538.0      0.0      30.0       0.0      0.0   \n",
       "max          6.0   2005.0   5707.0      9.0     999.0     999.0      6.0   \n",
       "\n",
       "       pp04b3_mes  pp04b3_ano  pp04b3_dia  ...     v9_m    v10_m    v11_m  \\\n",
       "count     47030.0     47030.0     47030.0  ...  47030.0  47030.0  47030.0   \n",
       "mean          0.0         0.0         0.0  ...      0.0      1.0      1.0   \n",
       "std           1.0         1.0         1.0  ...     22.0     35.0     15.0   \n",
       "min           0.0         0.0         0.0  ...      0.0      0.0      0.0   \n",
       "25%           0.0         0.0         0.0  ...      0.0      0.0      0.0   \n",
       "50%           0.0         0.0         0.0  ...      0.0      0.0      0.0   \n",
       "75%           0.0         0.0         0.0  ...      0.0      0.0      0.0   \n",
       "max          99.0        99.0        99.0  ...   3000.0   4000.0   1300.0   \n",
       "\n",
       "         v12_m    v18_m   v19_am    v21_m     t_vi      itf     ipcf  \n",
       "count  47030.0  47030.0  47030.0  47030.0  47030.0  47030.0  47030.0  \n",
       "mean       9.0      2.0      0.0      7.0     79.0   1315.0    359.0  \n",
       "std       67.0    267.0      2.0     56.0    385.0   1365.0    443.0  \n",
       "min        0.0      0.0      0.0      0.0      0.0      0.0      0.0  \n",
       "25%        0.0      0.0      0.0      0.0      0.0    550.0    125.0  \n",
       "50%        0.0      0.0      0.0      0.0      0.0    950.0    236.0  \n",
       "75%        0.0      0.0      0.0      0.0      0.0   1660.0    442.0  \n",
       "max     3000.0  50000.0    180.0   2500.0  50000.0  52050.0  13012.0  \n",
       "\n",
       "[8 rows x 46 columns]"
      ]
     },
     "execution_count": 256,
     "metadata": {},
     "output_type": "execute_result"
    }
   ],
   "source": [
    "# Verificación de importación 1\n",
    "db05_raw.describe().round()"
   ]
  },
  {
   "cell_type": "code",
   "execution_count": 257,
   "id": "ca1f363a-aedf-4717-b202-07cc0a58ae73",
   "metadata": {},
   "outputs": [
    {
     "data": {
      "text/html": [
       "<div>\n",
       "<style scoped>\n",
       "    .dataframe tbody tr th:only-of-type {\n",
       "        vertical-align: middle;\n",
       "    }\n",
       "\n",
       "    .dataframe tbody tr th {\n",
       "        vertical-align: top;\n",
       "    }\n",
       "\n",
       "    .dataframe thead th {\n",
       "        text-align: right;\n",
       "    }\n",
       "</style>\n",
       "<table border=\"1\" class=\"dataframe\">\n",
       "  <thead>\n",
       "    <tr style=\"text-align: right;\">\n",
       "      <th></th>\n",
       "      <th>ANO4</th>\n",
       "      <th>TRIMESTRE</th>\n",
       "      <th>NRO_HOGAR</th>\n",
       "      <th>COMPONENTE</th>\n",
       "      <th>H15</th>\n",
       "      <th>REGION</th>\n",
       "      <th>AGLOMERADO</th>\n",
       "      <th>PONDERA</th>\n",
       "      <th>CH03</th>\n",
       "      <th>CH04</th>\n",
       "      <th>...</th>\n",
       "      <th>V21_03_M</th>\n",
       "      <th>V22_01_M</th>\n",
       "      <th>V22_02_M</th>\n",
       "      <th>V22_03_M</th>\n",
       "      <th>P_DECCF</th>\n",
       "      <th>P_RDECCF</th>\n",
       "      <th>P_GDECCF</th>\n",
       "      <th>P_PDECCF</th>\n",
       "      <th>P_IDECCF</th>\n",
       "      <th>P_ADECCF</th>\n",
       "    </tr>\n",
       "  </thead>\n",
       "  <tbody>\n",
       "    <tr>\n",
       "      <th>count</th>\n",
       "      <td>45425.0</td>\n",
       "      <td>45425.0</td>\n",
       "      <td>45425.0</td>\n",
       "      <td>45425.0</td>\n",
       "      <td>45425.0</td>\n",
       "      <td>45425.0</td>\n",
       "      <td>45425.0</td>\n",
       "      <td>45425.0</td>\n",
       "      <td>45425.0</td>\n",
       "      <td>45425.0</td>\n",
       "      <td>...</td>\n",
       "      <td>45425.0</td>\n",
       "      <td>45425.0</td>\n",
       "      <td>45425.0</td>\n",
       "      <td>45425.0</td>\n",
       "      <td>33482.0</td>\n",
       "      <td>33482.0</td>\n",
       "      <td>14933.0</td>\n",
       "      <td>18549.0</td>\n",
       "      <td>29140.0</td>\n",
       "      <td>33482.0</td>\n",
       "    </tr>\n",
       "    <tr>\n",
       "      <th>mean</th>\n",
       "      <td>2025.0</td>\n",
       "      <td>1.0</td>\n",
       "      <td>1.0</td>\n",
       "      <td>2.0</td>\n",
       "      <td>1.0</td>\n",
       "      <td>36.0</td>\n",
       "      <td>23.0</td>\n",
       "      <td>657.0</td>\n",
       "      <td>2.0</td>\n",
       "      <td>2.0</td>\n",
       "      <td>...</td>\n",
       "      <td>841.0</td>\n",
       "      <td>1774.0</td>\n",
       "      <td>1939.0</td>\n",
       "      <td>1172.0</td>\n",
       "      <td>5.0</td>\n",
       "      <td>6.0</td>\n",
       "      <td>5.0</td>\n",
       "      <td>6.0</td>\n",
       "      <td>5.0</td>\n",
       "      <td>6.0</td>\n",
       "    </tr>\n",
       "    <tr>\n",
       "      <th>std</th>\n",
       "      <td>0.0</td>\n",
       "      <td>0.0</td>\n",
       "      <td>1.0</td>\n",
       "      <td>2.0</td>\n",
       "      <td>0.0</td>\n",
       "      <td>15.0</td>\n",
       "      <td>17.0</td>\n",
       "      <td>867.0</td>\n",
       "      <td>2.0</td>\n",
       "      <td>0.0</td>\n",
       "      <td>...</td>\n",
       "      <td>9978.0</td>\n",
       "      <td>15706.0</td>\n",
       "      <td>11682.0</td>\n",
       "      <td>9142.0</td>\n",
       "      <td>3.0</td>\n",
       "      <td>3.0</td>\n",
       "      <td>3.0</td>\n",
       "      <td>3.0</td>\n",
       "      <td>3.0</td>\n",
       "      <td>3.0</td>\n",
       "    </tr>\n",
       "    <tr>\n",
       "      <th>min</th>\n",
       "      <td>2025.0</td>\n",
       "      <td>1.0</td>\n",
       "      <td>1.0</td>\n",
       "      <td>1.0</td>\n",
       "      <td>0.0</td>\n",
       "      <td>1.0</td>\n",
       "      <td>2.0</td>\n",
       "      <td>21.0</td>\n",
       "      <td>1.0</td>\n",
       "      <td>1.0</td>\n",
       "      <td>...</td>\n",
       "      <td>-9.0</td>\n",
       "      <td>-9.0</td>\n",
       "      <td>-9.0</td>\n",
       "      <td>-9.0</td>\n",
       "      <td>1.0</td>\n",
       "      <td>1.0</td>\n",
       "      <td>1.0</td>\n",
       "      <td>1.0</td>\n",
       "      <td>1.0</td>\n",
       "      <td>1.0</td>\n",
       "    </tr>\n",
       "    <tr>\n",
       "      <th>25%</th>\n",
       "      <td>2025.0</td>\n",
       "      <td>1.0</td>\n",
       "      <td>1.0</td>\n",
       "      <td>1.0</td>\n",
       "      <td>1.0</td>\n",
       "      <td>40.0</td>\n",
       "      <td>10.0</td>\n",
       "      <td>181.0</td>\n",
       "      <td>1.0</td>\n",
       "      <td>1.0</td>\n",
       "      <td>...</td>\n",
       "      <td>0.0</td>\n",
       "      <td>0.0</td>\n",
       "      <td>0.0</td>\n",
       "      <td>0.0</td>\n",
       "      <td>3.0</td>\n",
       "      <td>3.0</td>\n",
       "      <td>3.0</td>\n",
       "      <td>3.0</td>\n",
       "      <td>3.0</td>\n",
       "      <td>3.0</td>\n",
       "    </tr>\n",
       "    <tr>\n",
       "      <th>50%</th>\n",
       "      <td>2025.0</td>\n",
       "      <td>1.0</td>\n",
       "      <td>1.0</td>\n",
       "      <td>2.0</td>\n",
       "      <td>1.0</td>\n",
       "      <td>42.0</td>\n",
       "      <td>22.0</td>\n",
       "      <td>319.0</td>\n",
       "      <td>2.0</td>\n",
       "      <td>2.0</td>\n",
       "      <td>...</td>\n",
       "      <td>0.0</td>\n",
       "      <td>0.0</td>\n",
       "      <td>0.0</td>\n",
       "      <td>0.0</td>\n",
       "      <td>5.0</td>\n",
       "      <td>6.0</td>\n",
       "      <td>5.0</td>\n",
       "      <td>6.0</td>\n",
       "      <td>6.0</td>\n",
       "      <td>6.0</td>\n",
       "    </tr>\n",
       "    <tr>\n",
       "      <th>75%</th>\n",
       "      <td>2025.0</td>\n",
       "      <td>1.0</td>\n",
       "      <td>1.0</td>\n",
       "      <td>3.0</td>\n",
       "      <td>1.0</td>\n",
       "      <td>43.0</td>\n",
       "      <td>32.0</td>\n",
       "      <td>684.0</td>\n",
       "      <td>3.0</td>\n",
       "      <td>2.0</td>\n",
       "      <td>...</td>\n",
       "      <td>0.0</td>\n",
       "      <td>0.0</td>\n",
       "      <td>0.0</td>\n",
       "      <td>0.0</td>\n",
       "      <td>8.0</td>\n",
       "      <td>8.0</td>\n",
       "      <td>8.0</td>\n",
       "      <td>8.0</td>\n",
       "      <td>8.0</td>\n",
       "      <td>8.0</td>\n",
       "    </tr>\n",
       "    <tr>\n",
       "      <th>max</th>\n",
       "      <td>2025.0</td>\n",
       "      <td>1.0</td>\n",
       "      <td>72.0</td>\n",
       "      <td>56.0</td>\n",
       "      <td>2.0</td>\n",
       "      <td>44.0</td>\n",
       "      <td>93.0</td>\n",
       "      <td>8257.0</td>\n",
       "      <td>10.0</td>\n",
       "      <td>2.0</td>\n",
       "      <td>...</td>\n",
       "      <td>450000.0</td>\n",
       "      <td>600000.0</td>\n",
       "      <td>350000.0</td>\n",
       "      <td>342550.0</td>\n",
       "      <td>10.0</td>\n",
       "      <td>10.0</td>\n",
       "      <td>10.0</td>\n",
       "      <td>10.0</td>\n",
       "      <td>10.0</td>\n",
       "      <td>10.0</td>\n",
       "    </tr>\n",
       "  </tbody>\n",
       "</table>\n",
       "<p>8 rows × 230 columns</p>\n",
       "</div>"
      ],
      "text/plain": [
       "          ANO4  TRIMESTRE  NRO_HOGAR  COMPONENTE      H15   REGION  \\\n",
       "count  45425.0    45425.0    45425.0     45425.0  45425.0  45425.0   \n",
       "mean    2025.0        1.0        1.0         2.0      1.0     36.0   \n",
       "std        0.0        0.0        1.0         2.0      0.0     15.0   \n",
       "min     2025.0        1.0        1.0         1.0      0.0      1.0   \n",
       "25%     2025.0        1.0        1.0         1.0      1.0     40.0   \n",
       "50%     2025.0        1.0        1.0         2.0      1.0     42.0   \n",
       "75%     2025.0        1.0        1.0         3.0      1.0     43.0   \n",
       "max     2025.0        1.0       72.0        56.0      2.0     44.0   \n",
       "\n",
       "       AGLOMERADO  PONDERA     CH03     CH04  ...  V21_03_M  V22_01_M  \\\n",
       "count     45425.0  45425.0  45425.0  45425.0  ...   45425.0   45425.0   \n",
       "mean         23.0    657.0      2.0      2.0  ...     841.0    1774.0   \n",
       "std          17.0    867.0      2.0      0.0  ...    9978.0   15706.0   \n",
       "min           2.0     21.0      1.0      1.0  ...      -9.0      -9.0   \n",
       "25%          10.0    181.0      1.0      1.0  ...       0.0       0.0   \n",
       "50%          22.0    319.0      2.0      2.0  ...       0.0       0.0   \n",
       "75%          32.0    684.0      3.0      2.0  ...       0.0       0.0   \n",
       "max          93.0   8257.0     10.0      2.0  ...  450000.0  600000.0   \n",
       "\n",
       "       V22_02_M  V22_03_M  P_DECCF  P_RDECCF  P_GDECCF  P_PDECCF  P_IDECCF  \\\n",
       "count   45425.0   45425.0  33482.0   33482.0   14933.0   18549.0   29140.0   \n",
       "mean     1939.0    1172.0      5.0       6.0       5.0       6.0       5.0   \n",
       "std     11682.0    9142.0      3.0       3.0       3.0       3.0       3.0   \n",
       "min        -9.0      -9.0      1.0       1.0       1.0       1.0       1.0   \n",
       "25%         0.0       0.0      3.0       3.0       3.0       3.0       3.0   \n",
       "50%         0.0       0.0      5.0       6.0       5.0       6.0       6.0   \n",
       "75%         0.0       0.0      8.0       8.0       8.0       8.0       8.0   \n",
       "max    350000.0  342550.0     10.0      10.0      10.0      10.0      10.0   \n",
       "\n",
       "       P_ADECCF  \n",
       "count   33482.0  \n",
       "mean        6.0  \n",
       "std         3.0  \n",
       "min         1.0  \n",
       "25%         3.0  \n",
       "50%         6.0  \n",
       "75%         8.0  \n",
       "max        10.0  \n",
       "\n",
       "[8 rows x 230 columns]"
      ]
     },
     "execution_count": 257,
     "metadata": {},
     "output_type": "execute_result"
    }
   ],
   "source": [
    "# Verificación de importación 2\n",
    "db25_raw.describe().round()"
   ]
  },
  {
   "cell_type": "code",
   "execution_count": 8,
   "id": "e1ac802e-3643-488c-9036-c09ffbba2b2f",
   "metadata": {},
   "outputs": [],
   "source": [
    "# Recortamos los datasets\n",
    "db05 = db05_raw[db05_raw[\"region\"] == \"NEA\"].copy()\n",
    "db25 = db25_raw[db25_raw[\"REGION\"] == 41].copy()"
   ]
  },
  {
   "cell_type": "code",
   "execution_count": 9,
   "id": "ee16c55e-469d-4354-8d41-5be424f03027",
   "metadata": {},
   "outputs": [
    {
     "name": "stdout",
     "output_type": "stream",
     "text": [
      "<class 'pandas.core.frame.DataFrame'>\n",
      "Index: 5453 entries, 18832 to 24284\n",
      "Columns: 176 entries, CODUSU to idimpp\n",
      "dtypes: category(94), float64(46), object(36)\n",
      "memory usage: 4.0+ MB\n"
     ]
    }
   ],
   "source": [
    "# Verificación de recorte 1\n",
    "db05.info()"
   ]
  },
  {
   "cell_type": "code",
   "execution_count": 10,
   "id": "081ee1b5-bc23-40f9-ad1a-793b334925da",
   "metadata": {},
   "outputs": [
    {
     "name": "stdout",
     "output_type": "stream",
     "text": [
      "<class 'pandas.core.frame.DataFrame'>\n",
      "Index: 4746 entries, 14 to 45413\n",
      "Columns: 235 entries, CODUSU to P_ADECCF\n",
      "dtypes: float64(150), int64(80), object(5)\n",
      "memory usage: 8.5+ MB\n"
     ]
    }
   ],
   "source": [
    "# Verificación de recorte 2\n",
    "db25.info()"
   ]
  },
  {
   "cell_type": "code",
   "execution_count": 9,
   "id": "f0f35507-61a8-4730-aae8-4cdde7fd1337",
   "metadata": {},
   "outputs": [
    {
     "name": "stdout",
     "output_type": "stream",
     "text": [
      "[41]\n",
      "[41]\n"
     ]
    }
   ],
   "source": [
    "# Convertir de categorical a object\n",
    "db05['region'] = db05['region'].astype('object')\n",
    "# Ahora reemplazamos para luego poder hacer el join mediante el código '41'\n",
    "db05.loc[db05['region'] == 'NEA', 'region'] = 41\n",
    "\n",
    "print(db05['region'].unique())\n",
    "print(db25['REGION'].unique())"
   ]
  },
  {
   "cell_type": "code",
   "execution_count": 11,
   "id": "e30ce7ae-5b9d-460b-8165-4bff08b92f13",
   "metadata": {},
   "outputs": [],
   "source": [
    "#Para el proceso de elección de variables, empezamos descartando aquellas variables que figuren sólo en uno de ambos Datasets.\n",
    "#Evaluamos cuáles son:\n",
    "db05.columns = db05.columns.str.upper()\n",
    "cols05 = list(db05.columns.str.upper())\n",
    "cols25 = list(db25.columns)"
   ]
  },
  {
   "cell_type": "code",
   "execution_count": 12,
   "id": "0472edc6-5d74-4652-b71a-c62ba66e59bd",
   "metadata": {},
   "outputs": [
    {
     "name": "stdout",
     "output_type": "stream",
     "text": [
      "['CODUSU', 'NRO_HOGAR', 'COMPONENTE', 'H15', 'ANO4', 'TRIMESTRE', 'REGION', 'MAS_500', 'AGLOMERADO', 'PONDERA', 'CH03', 'CH04', 'CH06', 'CH07', 'CH08', 'CH09', 'CH10', 'CH11', 'CH12', 'CH13', 'CH14', 'CH15', 'CH15_COD', 'CH16', 'CH16_COD', 'NIVEL_ED', 'ESTADO', 'CAT_OCUP', 'CAT_INAC', 'PP02C1', 'PP02C2', 'PP02C3', 'PP02C4', 'PP02C5', 'PP02C6', 'PP02C7', 'PP02C8', 'PP02E', 'PP02H', 'PP02I', 'PP03C', 'PP03D', 'PP3E_TOT', 'PP3F_TOT', 'PP03G', 'PP03H', 'PP03I', 'PP03J', 'INTENSI', 'PP04A', 'PP04B_COD', 'PP04B1', 'PP04B2', 'PP04B3_MES', 'PP04B3_ANO', 'PP04B3_DIA', 'PP04C', 'PP04C99', 'PP04D_COD', 'PP04G', 'PP05B2_MES', 'PP05B2_ANO', 'PP05B2_DIA', 'PP05C_1', 'PP05C_2', 'PP05C_3', 'PP05E', 'PP05F', 'PP05H', 'PP06A', 'PP06C', 'PP06D', 'PP06E', 'PP06H', 'PP07A', 'PP07C', 'PP07D', 'PP07E', 'PP07F1', 'PP07F2', 'PP07F3', 'PP07F4', 'PP07F5', 'PP07G1', 'PP07G2', 'PP07G3', 'PP07G4', 'PP07G_59', 'PP07H', 'PP07I', 'PP07J', 'PP07K', 'PP08D1', 'PP08D4', 'PP08F1', 'PP08F2', 'PP08J1', 'PP08J2', 'PP08J3', 'PP09A', 'PP09A_ESP', 'PP09B', 'PP09C', 'PP09C_ESP', 'PP10A', 'PP10C', 'PP10D', 'PP10E', 'PP11A', 'PP11B_COD', 'PP11B1', 'PP11B2_MES', 'PP11B2_ANO', 'PP11B2_DIA', 'PP11C', 'PP11C99', 'PP11D_COD', 'PP11G_ANO', 'PP11G_MES', 'PP11G_DIA', 'PP11L', 'PP11L1', 'PP11M', 'PP11N', 'PP11O', 'PP11P', 'PP11Q', 'PP11R', 'PP11S', 'PP11T', 'P21', 'DECOCUR', 'IDECOCUR', 'RDECOCUR', 'GDECOCUR', 'PDECOCUR', 'ADECOCUR', 'TOT_P12', 'P47T', 'DECINDR', 'IDECINDR', 'RDECINDR', 'GDECINDR', 'PDECINDR', 'ADECINDR', 'V3_M', 'V4_M', 'V8_M', 'V9_M', 'V10_M', 'V12_M', 'V18_M', 'V19_AM', 'T_VI', 'ITF', 'DECIFR', 'IDECIFR', 'RDECIFR', 'GDECIFR', 'PDECIFR', 'ADECIFR', 'IPCF', 'DECCFR', 'IDECCFR', 'RDECCFR', 'GDECCFR', 'PDECCFR', 'ADECCFR']\n",
      "\n"
     ]
    }
   ],
   "source": [
    "cols05_filtro = []\n",
    "cols05_descarte = []\n",
    "\n",
    "for col in cols05:\n",
    "    if col in cols25:\n",
    "        cols05_filtro.append(col)\n",
    "    else:\n",
    "        cols05_descarte.append(col)\n",
    "\n",
    "print(cols05_filtro)\n",
    "print()"
   ]
  },
  {
   "cell_type": "code",
   "execution_count": 13,
   "id": "5ab8bf63-f449-4b0b-ac9f-c141b93a3dd8",
   "metadata": {},
   "outputs": [],
   "source": [
    "cols25_nuevas = []\n",
    "cols25_viejas = []\n",
    "for col in cols25:\n",
    "    if col not in cols05:\n",
    "        cols25_nuevas.append(col)\n",
    "    else:\n",
    "        cols25_viejas.append(col)"
   ]
  },
  {
   "cell_type": "code",
   "execution_count": 14,
   "id": "be5e9c4f-6e11-4d3d-869c-67c5485b22c2",
   "metadata": {},
   "outputs": [
    {
     "name": "stdout",
     "output_type": "stream",
     "text": [
      "[]\n"
     ]
    }
   ],
   "source": [
    "# Chequeo de que las 'Variables 2005 que perduraron' (cols05_filtro) son exactamente las 'Variables 2025 que ya existían' (cols25_viejas)\n",
    "errorcheck = []\n",
    "\n",
    "for col in cols05_filtro:\n",
    "    if col not in cols25_viejas:\n",
    "        errorcheck.append(col)\n",
    "    else:\n",
    "        pass\n",
    "print(errorcheck) # Si está vacío, se implementó bien el cruce"
   ]
  },
  {
   "cell_type": "code",
   "execution_count": 16,
   "id": "bce47faa-e5de-480f-a642-3e9acd1cd3fa",
   "metadata": {},
   "outputs": [],
   "source": [
    "# Ahora recortamos ambos datasets para quedarnos sólo con las columnas compartidas entre ambos\n",
    "db05_new = db05[cols05_filtro]\n",
    "db25_new = db25[cols25_viejas]"
   ]
  },
  {
   "cell_type": "markdown",
   "id": "1d9aae7d-d3e5-491f-a91f-90fe25286b77",
   "metadata": {},
   "source": [
    "Continuamos con la etapa de Merging"
   ]
  },
  {
   "cell_type": "code",
   "execution_count": 17,
   "id": "d3eb72c6-0d56-4a7a-bbcf-0bb45cdc3521",
   "metadata": {},
   "outputs": [
    {
     "name": "stdout",
     "output_type": "stream",
     "text": [
      "<class 'pandas.core.frame.DataFrame'>\n",
      "Index: 10199 entries, 18832 to 45413\n",
      "Columns: 168 entries, CODUSU to ADECCFR\n",
      "dtypes: float64(42), object(126)\n",
      "memory usage: 13.2+ MB\n"
     ]
    }
   ],
   "source": [
    "dbconcat = pd.concat([db05_new,db25_new])\n",
    "dbconcat.info()"
   ]
  },
  {
   "cell_type": "markdown",
   "id": "c1a09e9f-2cf3-43d1-8774-f0d3b340987e",
   "metadata": {},
   "source": [
    "### Limpieza de datos"
   ]
  },
  {
   "cell_type": "markdown",
   "id": "6489c5cc-f40e-4aba-9bdd-140310d9fd20",
   "metadata": {},
   "source": [
    "Ahora, procedemos a hacer el recorte de variables, en el cual tenemos que quedarnos con 15 de ellas (más otras que usaremos en consignas posteriors)\n",
    "\n",
    "De antemano, tenemos las siguientes 8 variables como obligatorias:\n",
    "- CH04: Sexo\n",
    "- CH06: Edad\n",
    "- CH07: Estado civil\n",
    "- CH08: Cobertura médica\n",
    "- NIVEL_ED: Nivel educativo\n",
    "- ESTADO: Condición de actividad laboral\n",
    "- CAT_INAC: Categoría de inactividad\n",
    "- IPCF: Monto de ingreso per cápita familiar\n",
    "<br><br>\n",
    "Nuestras variables elegidas son:\n",
    "- CAT_OCUP: Categoría ocupacional\n",
    "- PP06E: Tipo de constitución jurídica de la actividad de trabajadores independientes\n",
    "- PP04G: ¿Dónde realiza principalmente sus tareas?\n",
    "- PP03I: ¿En los últimos 30 días, buscó trabajar más horas?\n",
    "- PP07K: Documentación asociada al cobro de los asalariados\n",
    "- P21: Monto de ingreso de la ocupación principal\n",
    "- T_VI: Monto de ingresos no laborales"
   ]
  },
  {
   "cell_type": "code",
   "execution_count": 313,
   "id": "c36efdb8-aa13-402c-9987-9a695efdb699",
   "metadata": {},
   "outputs": [
    {
     "name": "stdout",
     "output_type": "stream",
     "text": [
      "[]\n"
     ]
    }
   ],
   "source": [
    "# Variables obligatorias:\n",
    "obligatorias = ['CODUSU','ANO4','CH04','CH06','CH07','CH08','NIVEL_ED','ESTADO','CAT_INAC','IPCF'] # conservamos ANO4 y CODUSU por fuera de las 15 a analizar\n",
    "\n",
    "# Variables elegidas:\n",
    "elegidas = ['CAT_OCUP','PP06E','PP04G','PP03I','PP07K','P21','T_VI','ITF']\n",
    "recorte = obligatorias + elegidas\n",
    "#Rechequeamos que las elegidas estén en ambos datasets:\n",
    "faltantes = []\n",
    "for col in recorte:\n",
    "    if col not in db25_new:\n",
    "        faltantes.append(col)\n",
    "    else:\n",
    "        pass\n",
    "\n",
    "print(faltantes)"
   ]
  },
  {
   "cell_type": "code",
   "execution_count": 314,
   "id": "25d2cde2-d845-4291-98ee-53acb18fcf57",
   "metadata": {
    "scrolled": true
   },
   "outputs": [
    {
     "name": "stdout",
     "output_type": "stream",
     "text": [
      "CODUSU: object\n",
      "ANO4: float64\n",
      "CH04: object\n",
      "CH06: object\n",
      "CH07: object\n",
      "CH08: object\n",
      "NIVEL_ED: object\n",
      "ESTADO: object\n",
      "CAT_INAC: object\n",
      "IPCF: float64\n",
      "CAT_OCUP: object\n",
      "PP06E: object\n",
      "PP04G: object\n",
      "PP03I: object\n",
      "PP07K: object\n",
      "P21: float64\n",
      "T_VI: float64\n",
      "ITF: float64\n",
      "\n",
      "CH04: ['Mujer', 'Varón', 1, 2]\n",
      "CH06: [38.0, 21.0, 16.0, 14.0, 11.0, 9.0, 5.0, 2.0, 'Menos de 1 año', 77.0, 72.0, 66.0, 35.0, 12.0, 10.0, 32.0, 28.0, 1.0, 89.0, 33.0, 15.0, 6.0, 3.0, 48.0, 13.0, 4.0, 17.0, 37.0, 22.0, 74.0, 76.0, 50.0, 55.0, 47.0, 43.0, 8.0, 51.0, 20.0, 44.0, 58.0, 60.0, 29.0, 90.0, 36.0, 18.0, 31.0, 27.0, 23.0, 19.0, 52.0, 24.0, 56.0, 7.0, 30.0, 39.0, 54.0, 78.0, 49.0, 25.0, 42.0, 67.0, 45.0, 26.0, 34.0, 53.0, 71.0, 40.0, 65.0, 41.0, 59.0, 46.0, 87.0, 82.0, 64.0, 57.0, 61.0, 84.0, 68.0, 69.0, 73.0, 62.0, 63.0, 79.0, 80.0, 86.0, 85.0, 81.0, 97.0, 70.0, 83.0, 88.0, 75.0, 91.0, 93.0, 92.0, '98 y más años', -1, 96, 99, 94, 95]\n",
      "CH07: ['Viudo', 'Unido', 'Soltero', 'Casado', 'Separado o divorciado', 2, 5, 1, 3, 4]\n",
      "CH08: ['No paga ni le descuentan', 'Obra social (incluye PAMI)', 'Mutual/Prepaga/Servicio de emergencia', 'Obra social y mutual/prepaga/servicio de emergencia', 'Ns./Nr.', 1.0, 4.0, 3.0, 2.0, 9.0, 123.0, 12.0]\n",
      "NIVEL_ED: ['Primaria Incompleta (incluye educación especial)', 'Secundaria Incompleta', 'Primaria Completa', 'Sin instrucción', 'Secundaria Completa', 'Superior Universitaria Incompleta', 'Superior Universitaria Completa', 4, 7, 1, 3, 6, 5, 2]\n",
      "ESTADO: ['Ocupado', 'Inactivo', 'Menor de 10 años', 'Desocupado', 'Entrevista individual no realizada (no respuesta al cuestion', 1, 3, 4, 2, 0]\n",
      "CAT_INAC: [0.0, 'Ama de casa', 'Estudiante', 'Menor de 6 años', 'Jubilado/pensionado', 'Otros', 'Discapacitado', 'Rentista', 4, 5, 3, 7, 1, 6, 2]\n",
      "CAT_OCUP: ['Obrero o empleado', 0.0, 'Cuenta propia', 'Patrón', 'Trabajador familiar sin remuneración', 3, 2, 1, 4]\n",
      "PP06E: [0.0, 'O es una sociedad convenida de palabra?', 'Es una sociedad de otra forma legal?', 'Es una sociedad jurídicamente constituida? (S.A., S.R.L., Co', nan, 3.0, 2.0, 1.0]\n",
      "PP04G: ['En otro lugar', 'En un local/oficina/establecimiento/negocio/taller/chacra/fi', 0.0, 'En el domicilio/local de los clientes', 'En obras en construcción, de infraestructura, minería o simi', 'En vehículo para transporte de personas y mercaderías-aéreo,', 'En la calle/espacios públicos/ambulante/de casa en casa/pues', 'En esta vivienda', 'En la vivienda del socio o del patrón', 'En vehículos: bicicleta/moto/auto/barco/bote (no incluye ser', 'En puesto o kiosco fijo callejero', 'Ns./Nr.', 4.0, nan, 8.0, 12.0, 11.0, 9.0, 6.0, 3.0, 5.0, 10.0, 7.0, 13.0]\n",
      "PP03I: ['No', 0.0, 'Sí', 'Ns./Nr.', 2.0, nan, 1.0, 9.0]\n",
      "PP07K: ['...le dan recibo con sello/membrete/firma del empleador?', '...no le dan ni entrega nada?', 0.0, 'no cobra, es trabajador sin pago, ad-honorem', '...le dan un papel/recibo sin nada?', '...entrega una factura?', 'Ns./Nr.', 1.0, nan, 4.0, 2.0, 3.0]\n",
      "\n",
      "Columnas tipo 'object': \n",
      "['CH04', 'CH06', 'CH07', 'CH08', 'NIVEL_ED', 'ESTADO', 'CAT_INAC', 'CAT_OCUP', 'PP06E', 'PP04G', 'PP03I', 'PP07K']\n",
      "\n",
      "Datos no numéricos: \n",
      "{'CH04': {'Mujer': ' ', 'Varón': ' '}, 'CH06': {'Menos de 1 año': ' ', '98 y más años': ' '}, 'CH07': {'Viudo': ' ', 'Unido': ' ', 'Soltero': ' ', 'Casado': ' ', 'Separado o divorciado': ' '}, 'CH08': {'No paga ni le descuentan': ' ', 'Obra social (incluye PAMI)': ' ', 'Mutual/Prepaga/Servicio de emergencia': ' ', 'Obra social y mutual/prepaga/servicio de emergencia': ' ', 'Ns./Nr.': ' '}, 'NIVEL_ED': {'Primaria Incompleta (incluye educación especial)': ' ', 'Secundaria Incompleta': ' ', 'Primaria Completa': ' ', 'Sin instrucción': ' ', 'Secundaria Completa': ' ', 'Superior Universitaria Incompleta': ' ', 'Superior Universitaria Completa': ' '}, 'ESTADO': {'Ocupado': ' ', 'Inactivo': ' ', 'Menor de 10 años': ' ', 'Desocupado': ' ', 'Entrevista individual no realizada (no respuesta al cuestion': ' '}, 'CAT_INAC': {'Ama de casa': ' ', 'Estudiante': ' ', 'Menor de 6 años': ' ', 'Jubilado/pensionado': ' ', 'Otros': ' ', 'Discapacitado': ' ', 'Rentista': ' '}, 'CAT_OCUP': {'Obrero o empleado': ' ', 'Cuenta propia': ' ', 'Patrón': ' ', 'Trabajador familiar sin remuneración': ' '}, 'PP06E': {'O es una sociedad convenida de palabra?': ' ', 'Es una sociedad de otra forma legal?': ' ', 'Es una sociedad jurídicamente constituida? (S.A., S.R.L., Co': ' '}, 'PP04G': {'En otro lugar': ' ', 'En un local/oficina/establecimiento/negocio/taller/chacra/fi': ' ', 'En el domicilio/local de los clientes': ' ', 'En obras en construcción, de infraestructura, minería o simi': ' ', 'En vehículo para transporte de personas y mercaderías-aéreo,': ' ', 'En la calle/espacios públicos/ambulante/de casa en casa/pues': ' ', 'En esta vivienda': ' ', 'En la vivienda del socio o del patrón': ' ', 'En vehículos: bicicleta/moto/auto/barco/bote (no incluye ser': ' ', 'En puesto o kiosco fijo callejero': ' ', 'Ns./Nr.': ' '}, 'PP03I': {'No': ' ', 'Sí': ' ', 'Ns./Nr.': ' '}, 'PP07K': {'...le dan recibo con sello/membrete/firma del empleador?': ' ', '...no le dan ni entrega nada?': ' ', 'no cobra, es trabajador sin pago, ad-honorem': ' ', '...le dan un papel/recibo sin nada?': ' ', '...entrega una factura?': ' ', 'Ns./Nr.': ' '}}\n"
     ]
    }
   ],
   "source": [
    "db_recorte = dbconcat[recorte]\n",
    "\n",
    "# Revisamos \"incoherencias\" en el formato de los datos para corregirlos\n",
    "for col in db_recorte:\n",
    "    print(f\"{col}: {db_recorte[col].dtype}\")\n",
    "\n",
    "print()\n",
    "\n",
    "def revision(dataframe):\n",
    "    cols_mixtas = [] #En esta lista registraremos cuáles son las columnas que contienen más de dtype\n",
    "    mapeo = {} #Crearemos un diccionario para agilizar el reemplazo de strings por integers o floats \n",
    "    \n",
    "    for col in dataframe:\n",
    "        if (dataframe[col].dtype in (float,int)) or col in ('ANO4','CODUSU'):\n",
    "            pass\n",
    "        else:\n",
    "            valores_unicos = dataframe[col].unique().tolist()\n",
    "            cols_mixtas.append(col)\n",
    "            \n",
    "            # Crear diccionario anidado: cada valor único como clave con valor vacío (en ese vacío insertaremos el código del Diccionario)\n",
    "            mapeo[col] = {}\n",
    "            for valor in valores_unicos:\n",
    "                if isinstance(valor, (int,float)):\n",
    "                    pass\n",
    "                else:\n",
    "                    mapeo[col][valor] = \" \"  # o \"\" para string vacío\n",
    "            \n",
    "            print(f\"{col}: {valores_unicos}\")\n",
    "    \n",
    "    print()\n",
    "    print(f\"Columnas tipo 'object': \\n{cols_mixtas}\")\n",
    "    print()\n",
    "    print(f\"Datos no numéricos: \\n{mapeo}\")\n",
    "\n",
    "revision(db_recorte)"
   ]
  },
  {
   "cell_type": "markdown",
   "id": "82621fd7-fa13-4ecc-b3de-05b14be30707",
   "metadata": {},
   "source": [
    "Ahora, reemplazamos todos los registros que estén en formato string por su correspondiente código especificado en el Diccionario de la EPH."
   ]
  },
  {
   "cell_type": "code",
   "execution_count": 315,
   "id": "4c51a632-2a32-4e0a-a0f0-2727faa13782",
   "metadata": {},
   "outputs": [
    {
     "name": "stdout",
     "output_type": "stream",
     "text": [
      "{'CH04': {'Mujer': 2, 'Varón': 1}, 'CH06': {'Menos de 1 año': 0, '98 y más años': 98}, 'CH07': {'Viudo': 4, 'Unido': 1, 'Soltero': 5, 'Casado': 2, 'Separado o divorciado': 3}, 'CH08': {'No paga ni le descuentan': 4, 'Obra social (incluye PAMI)': 1, 'Mutual/Prepaga/Servicio de emergencia': 2, 'Obra social y mutual/prepaga/servicio de emergencia': 12, 'Ns./Nr.': 9}, 'NIVEL_ED': {'Primaria Incompleta (incluye educación especial)': 1, 'Secundaria Incompleta': 3, 'Primaria Completa': 2, 'Sin instrucción': 7, 'Secundaria Completa': 4, 'Superior Universitaria Incompleta': 5, 'Superior Universitaria Completa': 6}, 'ESTADO': {'Ocupado': 1, 'Inactivo': 3, 'Menor de 10 años': 4, 'Desocupado': 2, 'Entrevista individual no realizada (no respuesta al cuestion': 0}, 'CAT_INAC': {'Ama de casa': 4, 'Estudiante': 3, 'Menor de 6 años': 5, 'Jubilado/pensionado': 1, 'Otros': 7, 'Discapacitado': 6, 'Rentista': 2}, 'CAT_OCUP': {'Obrero o empleado': 3, 'Cuenta propia': 2, 'Patrón': 1, 'Trabajador familiar sin remuneración': 4}, 'PP06E': {'O es una sociedad convenida de palabra?': 3, 'Es una sociedad de otra forma legal?': 2, 'Es una sociedad jurídicamente constituida? (S.A., S.R.L., Co': 1}, 'PP04G': {'En otro lugar': 10, 'En un local/oficina/establecimiento/negocio/taller/chacra/fi': 1, 'En el domicilio/local de los clientes': 8, 'En obras en construcción, de infraestructura, minería o simi': 5, 'En vehículo para transporte de personas y mercaderías-aéreo,': 4, 'En la calle/espacios públicos/ambulante/de casa en casa/pues': 9, 'En esta vivienda': 6, 'En la vivienda del socio o del patrón': 7, 'En vehículos: bicicleta/moto/auto/barco/bote (no incluye ser': 3, 'En puesto o kiosco fijo callejero': 2, 'Ns./Nr.': 0}, 'PP03I': {'No': 2, 'Sí': 3, 'Ns./Nr.': 9}, 'PP07K': {'...le dan recibo con sello/membrete/firma del empleador?': 1, '...no le dan ni entrega nada?': 4, 'no cobra, es trabajador sin pago, ad-honorem': 5, '...le dan un papel/recibo sin nada?': 2, '...entrega una factura?': 3, 'Ns./Nr.': 0}}\n"
     ]
    }
   ],
   "source": [
    "mapeo_reemplazos = {\n",
    "    \"CH04\": {\"Mujer\": \"2\", \"Varón\": \"1\"},\n",
    "    \"CH06\": {\"Menos de 1 año\": \"0\", \"98 y más años\": \"98\"},\n",
    "    \"CH07\": {\n",
    "        \"Viudo\": int(4),\n",
    "        \"Unido\": int(1),\n",
    "        \"Soltero\": int(5),\n",
    "        \"Casado\": int(2),\n",
    "        \"Separado o divorciado\": int(3),\n",
    "    },\n",
    "    \"CH08\": {\n",
    "        \"No paga ni le descuentan\": \"4\",\n",
    "        \"Obra social (incluye PAMI)\": \"1\",\n",
    "        \"Mutual/Prepaga/Servicio de emergencia\": \"2\",\n",
    "        \"Obra social y mutual/prepaga/servicio de emergencia\": \"12\",\n",
    "        \"Ns./Nr.\": \"9\",\n",
    "    },\n",
    "    \"NIVEL_ED\": {\n",
    "        \"Primaria Incompleta (incluye educación especial)\": \"1\",\n",
    "        \"Secundaria Incompleta\": \"3\",\n",
    "        \"Primaria Completa\": \"2\",\n",
    "        \"Sin instrucción\": \"7\",\n",
    "        \"Secundaria Completa\": \"4\",\n",
    "        \"Superior Universitaria Incompleta\": \"5\",\n",
    "        \"Superior Universitaria Completa\": \"6\",\n",
    "    },\n",
    "    \"ESTADO\": {\n",
    "        \"Ocupado\": \"1\",\n",
    "        \"Inactivo\": \"3\",\n",
    "        \"Menor de 10 años\": \"4\",\n",
    "        \"Desocupado\": \"2\",\n",
    "        \"Entrevista individual no realizada (no respuesta al cuestion\": \"0\",\n",
    "    },\n",
    "    \"CAT_INAC\": {\n",
    "        \"Ama de casa\": \"4\",\n",
    "        \"Estudiante\": \"3\",\n",
    "        \"Menor de 6 años\": \"5\",\n",
    "        \"Jubilado/pensionado\": \"1\",\n",
    "        \"Otros\": \"7\",\n",
    "        \"Discapacitado\": \"6\",\n",
    "        \"Rentista\": \"2\",\n",
    "    },\n",
    "    \"CAT_OCUP\": {\n",
    "        \"Obrero o empleado\": \"3\",\n",
    "        \"Cuenta propia\": \"2\",\n",
    "        \"Patrón\": \"1\",\n",
    "        \"Trabajador familiar sin remuneración\": \"4\",\n",
    "    },\n",
    "    \"PP06E\": {\n",
    "        \"O es una sociedad convenida de palabra?\": \"3\",\n",
    "        \"Es una sociedad de otra forma legal?\": \"2\",\n",
    "        \"Es una sociedad jurídicamente constituida? (S.A., S.R.L., Co\": \"1\",\n",
    "    },\n",
    "    \"PP04G\": {\n",
    "        \"En otro lugar\": \"10\",\n",
    "        \"En un local/oficina/establecimiento/negocio/taller/chacra/fi\": \"1\",\n",
    "        \"En el domicilio/local de los clientes\": \"8\",\n",
    "        \"En obras en construcción, de infraestructura, minería o simi\": \"5\",\n",
    "        \"En vehículo para transporte de personas y mercaderías-aéreo,\": \"4\",\n",
    "        \"En la calle/espacios públicos/ambulante/de casa en casa/pues\": \"9\",\n",
    "        \"En esta vivienda\": \"6\",\n",
    "        \"En la vivienda del socio o del patrón\": \"7\",\n",
    "        \"En vehículos: bicicleta/moto/auto/barco/bote (no incluye ser\": \"3\",\n",
    "        \"En puesto o kiosco fijo callejero\": \"2\",\n",
    "        \"Ns./Nr.\": \"0\",\n",
    "    },\n",
    "    \"PP03I\": {\"No\": \"2\", \"Sí\": \"3\", \"Ns./Nr.\": \"9\"},\n",
    "    \"PP07K\": {\n",
    "        \"...le dan recibo con sello/membrete/firma del empleador?\": \"1\",\n",
    "        \"...no le dan ni entrega nada?\": \"4\",\n",
    "        \"no cobra, es trabajador sin pago, ad-honorem\": \"5\",\n",
    "        \"...le dan un papel/recibo sin nada?\": \"2\",\n",
    "        \"...entrega una factura?\": \"3\",\n",
    "        \"Ns./Nr.\": \"0\",\n",
    "    },\n",
    "}\n",
    "\n",
    "for columna, reemplazos in mapeo_reemplazos.items():\n",
    "    for clave, valor in reemplazos.items():\n",
    "        mapeo_reemplazos[columna][clave] = int(valor)\n",
    "\n",
    "print(mapeo_reemplazos)"
   ]
  },
  {
   "cell_type": "code",
   "execution_count": 316,
   "id": "ef80e526-91a1-4a00-8f4c-01f091747d3d",
   "metadata": {},
   "outputs": [],
   "source": [
    "for columna, reemplazos in mapeo_reemplazos.items():\n",
    "    for valor_original, valor_nuevo in reemplazos.items():\n",
    "        db_recorte.loc[db_recorte[columna] == valor_original, columna] = valor_nuevo"
   ]
  },
  {
   "cell_type": "code",
   "execution_count": 317,
   "id": "0512ddd0-41d3-42a9-9678-2777caf21ad0",
   "metadata": {},
   "outputs": [
    {
     "name": "stdout",
     "output_type": "stream",
     "text": [
      "CODUSU: object\n",
      "ANO4: float64\n",
      "CH04: object\n",
      "CH06: object\n",
      "CH07: object\n",
      "CH08: object\n",
      "NIVEL_ED: object\n",
      "ESTADO: object\n",
      "CAT_INAC: object\n",
      "IPCF: float64\n",
      "CAT_OCUP: object\n",
      "PP06E: object\n",
      "PP04G: object\n",
      "PP03I: object\n",
      "PP07K: object\n",
      "P21: float64\n",
      "T_VI: float64\n",
      "ITF: float64\n",
      "\n",
      "CH04: [2, 1]\n",
      "CH06: [38.0, 21.0, 16.0, 14.0, 11.0, 9.0, 5.0, 2.0, 0, 77.0, 72.0, 66.0, 35.0, 12.0, 10.0, 32.0, 28.0, 1.0, 89.0, 33.0, 15.0, 6.0, 3.0, 48.0, 13.0, 4.0, 17.0, 37.0, 22.0, 74.0, 76.0, 50.0, 55.0, 47.0, 43.0, 8.0, 51.0, 20.0, 44.0, 58.0, 60.0, 29.0, 90.0, 36.0, 18.0, 31.0, 27.0, 23.0, 19.0, 52.0, 24.0, 56.0, 7.0, 30.0, 39.0, 54.0, 78.0, 49.0, 25.0, 42.0, 67.0, 45.0, 26.0, 34.0, 53.0, 71.0, 40.0, 65.0, 41.0, 59.0, 46.0, 87.0, 82.0, 64.0, 57.0, 61.0, 84.0, 68.0, 69.0, 73.0, 62.0, 63.0, 79.0, 80.0, 86.0, 85.0, 81.0, 97.0, 70.0, 83.0, 88.0, 75.0, 91.0, 93.0, 92.0, 98, -1, 96, 99, 94, 95]\n",
      "CH07: [4, 1, 5, 2, 3]\n",
      "CH08: [4, 1, 2, 12, 9, 3.0, 123.0]\n",
      "NIVEL_ED: [1, 3, 2, 7, 4, 5, 6]\n",
      "ESTADO: [1, 3, 4, 2, 0]\n",
      "CAT_INAC: [0.0, 4, 3, 5, 1, 7, 6, 2]\n",
      "CAT_OCUP: [3, 0.0, 2, 1, 4]\n",
      "PP06E: [0.0, 3, 2, 1, nan]\n",
      "PP04G: [10, 1, 0.0, 8, 5, 4, 9, 6, 7, 3, 2, nan, 12.0, 11.0, 13.0]\n",
      "PP03I: [2, 0.0, 3, 9, nan, 1.0]\n",
      "PP07K: [1, 4, 0.0, 5, 2, 3, nan]\n",
      "\n",
      "Columnas tipo 'object': \n",
      "['CH04', 'CH06', 'CH07', 'CH08', 'NIVEL_ED', 'ESTADO', 'CAT_INAC', 'CAT_OCUP', 'PP06E', 'PP04G', 'PP03I', 'PP07K']\n",
      "\n",
      "Datos no numéricos: \n",
      "{'CH04': {}, 'CH06': {}, 'CH07': {}, 'CH08': {}, 'NIVEL_ED': {}, 'ESTADO': {}, 'CAT_INAC': {}, 'CAT_OCUP': {}, 'PP06E': {}, 'PP04G': {}, 'PP03I': {}, 'PP07K': {}}\n"
     ]
    }
   ],
   "source": [
    "for col in db_recorte:\n",
    "    print(f\"{col}: {db_recorte[col].dtype}\")\n",
    "\n",
    "print()\n",
    "\n",
    "revision(db_recorte)"
   ]
  },
  {
   "cell_type": "markdown",
   "id": "fecf75cd-9b36-463d-8706-5cb85f431769",
   "metadata": {},
   "source": [
    "Ahora, revisamos valores negativos en el dataset"
   ]
  },
  {
   "cell_type": "code",
   "execution_count": 318,
   "id": "ddcc9ec3-5ee3-40d7-b43b-b78f112c4748",
   "metadata": {},
   "outputs": [
    {
     "name": "stdout",
     "output_type": "stream",
     "text": [
      "CH04: [2 1]\n",
      "CH06: [38.0 21.0 16.0 14.0 11.0 9.0 5.0 2.0 0 77.0 72.0 66.0 35.0 12.0 10.0 32.0\n",
      " 28.0 1.0 89.0 33.0 15.0 6.0 3.0 48.0 13.0 4.0 17.0 37.0 22.0 74.0 76.0\n",
      " 50.0 55.0 47.0 43.0 8.0 51.0 20.0 44.0 58.0 60.0 29.0 90.0 36.0 18.0 31.0\n",
      " 27.0 23.0 19.0 52.0 24.0 56.0 7.0 30.0 39.0 54.0 78.0 49.0 25.0 42.0 67.0\n",
      " 45.0 26.0 34.0 53.0 71.0 40.0 65.0 41.0 59.0 46.0 87.0 82.0 64.0 57.0\n",
      " 61.0 84.0 68.0 69.0 73.0 62.0 63.0 79.0 80.0 86.0 85.0 81.0 97.0 70.0\n",
      " 83.0 88.0 75.0 91.0 93.0 92.0 98 -1 96 99 94 95]\n",
      "CH07: [4 1 5 2 3]\n",
      "CH08: [4 1 2 12 9 3.0 123.0]\n",
      "NIVEL_ED: [1 3 2 7 4 5 6]\n",
      "ESTADO: [1 3 4 2 0]\n",
      "CAT_INAC: [0.0 4 3 5 1 7 6 2]\n",
      "CAT_OCUP: [3 0.0 2 1 4]\n",
      "PP06E: [0.0 3 2 1 nan]\n",
      "PP04G: [10 1 0.0 8 5 4 9 6 7 3 2 nan 12.0 11.0 13.0]\n",
      "PP03I: [2 0.0 3 9 nan 1.0]\n",
      "PP07K: [1 4 0.0 5 2 3 nan]\n",
      "\n",
      "Columnas con valores no-positivos: \n",
      "['CH06', 'CH08', 'ESTADO', 'CAT_INAC', 'CAT_OCUP', 'PP06E', 'PP04G', 'PP03I', 'PP07K']\n",
      "\n",
      "Valores no positivos:\n",
      "{'CH06': {9.0: ' ', 0: ' ', -1: ' '}, 'CH08': {9: ' '}, 'ESTADO': {0: ' '}, 'CAT_INAC': {0.0: ' '}, 'CAT_OCUP': {0.0: ' '}, 'PP06E': {0.0: ' ', nan: ' '}, 'PP04G': {0.0: ' ', 9: ' ', nan: ' '}, 'PP03I': {0.0: ' ', 9: ' ', nan: ' '}, 'PP07K': {0.0: ' ', nan: ' '}}\n"
     ]
    }
   ],
   "source": [
    "cols_nopos = []\n",
    "mapeo_nopos = {}\n",
    "    \n",
    "for col in db_recorte:\n",
    "    if (db_recorte[col].dtype in (float,int)) or col in ('ANO4','CODUSU'):\n",
    "        pass\n",
    "    else:\n",
    "        valores_unicos = db_recorte[col].unique()\n",
    "        \n",
    "        # Filtrar valores no-positivos de forma más segura\n",
    "        valores_nopos = []\n",
    "        for val in valores_unicos:\n",
    "            if pd.isna(val) or (not pd.isna(val) and val <= 0) or (val == 9):\n",
    "                valores_nopos.append(val)\n",
    "        \n",
    "        # Solo agregar a la lista si hay valores no-positivos\n",
    "        if valores_nopos:\n",
    "            cols_nopos.append(col)\n",
    "            \n",
    "            # Crear diccionario anidado\n",
    "            mapeo_nopos[col] = {}\n",
    "            for valor in valores_nopos:\n",
    "                mapeo_nopos[col][valor] = \" \"\n",
    "                \n",
    "        print(f\"{col}: {valores_unicos}\")\n",
    "    \n",
    "print()\n",
    "print(f\"Columnas con valores no-positivos: \\n{cols_nopos}\")\n",
    "print()\n",
    "print(f\"Valores no positivos:\\n{mapeo_nopos}\")"
   ]
  },
  {
   "cell_type": "code",
   "execution_count": 319,
   "id": "5691ceb0-203d-4685-998b-c44b2cdc5064",
   "metadata": {},
   "outputs": [],
   "source": [
    "mapeo_num_reemplazos = {\n",
    "    \"CH06\": {9.0: int(9), 0: int(0), -1: np.nan},\n",
    "    \"CH08\": {9: np.nan},\n",
    "    \"ESTADO\": {0: np.nan},\n",
    "    \"CAT_INAC\": {0.0: np.nan},\n",
    "    \"CAT_OCUP\": {0.0: np.nan},\n",
    "    \"PP06E\": {0.0: np.nan, np.nan: np.nan},\n",
    "    \"PP04G\": {0.0: np.nan, 9: int(9), np.nan: np.nan},\n",
    "    \"PP03I\": {0.0: np.nan, 9: np.nan, np.nan: np.nan},\n",
    "    \"PP07K\": {0.0: np.nan, np.nan: np.nan}\n",
    "}"
   ]
  },
  {
   "cell_type": "code",
   "execution_count": 320,
   "id": "dde22c95-1013-4603-bc70-04db935c2b8c",
   "metadata": {},
   "outputs": [],
   "source": [
    "for columna, reemplazos in mapeo_num_reemplazos.items():\n",
    "    for valor_original, valor_nuevo in reemplazos.items():\n",
    "        db_recorte.loc[db_recorte[columna] == valor_original, columna] = valor_nuevo"
   ]
  },
  {
   "cell_type": "code",
   "execution_count": 321,
   "id": "8b4b12d4-8f14-447a-a14a-fe236c208170",
   "metadata": {},
   "outputs": [
    {
     "name": "stdout",
     "output_type": "stream",
     "text": [
      "CH04: [2, 1]\n",
      "CH06: [38.0, 21.0, 16.0, 14.0, 11.0, 9, 5.0, 2.0, 0, 77.0, 72.0, 66.0, 35.0, 12.0, 10.0, 32.0, 28.0, 1.0, 89.0, 33.0, 15.0, 6.0, 3.0, 48.0, 13.0, 4.0, 17.0, 37.0, 22.0, 74.0, 76.0, 50.0, 55.0, 47.0, 43.0, 8.0, 51.0, 20.0, 44.0, 58.0, 60.0, 29.0, 90.0, 36.0, 18.0, 31.0, 27.0, 23.0, 19.0, 52.0, 24.0, 56.0, 7.0, 30.0, 39.0, 54.0, 78.0, 49.0, 25.0, 42.0, 67.0, 45.0, 26.0, 34.0, 53.0, 71.0, 40.0, 65.0, 41.0, 59.0, 46.0, 87.0, 82.0, 64.0, 57.0, 61.0, 84.0, 68.0, 69.0, 73.0, 62.0, 63.0, 79.0, 80.0, 86.0, 85.0, 81.0, 97.0, 70.0, 83.0, 88.0, 75.0, 91.0, 93.0, 92.0, 98, nan, 96, 99, 94, 95]\n",
      "CH07: [4, 1, 5, 2, 3]\n",
      "CH08: [4, 1, 2, 12, nan, 3.0, 123.0]\n",
      "NIVEL_ED: [1, 3, 2, 7, 4, 5, 6]\n",
      "ESTADO: [1, 3, 4, 2, nan]\n",
      "CAT_INAC: [nan, 4, 3, 5, 1, 7, 6, 2]\n",
      "CAT_OCUP: [3, nan, 2, 1, 4]\n",
      "PP06E: [nan, 3, 2, 1]\n",
      "PP04G: [10, 1, nan, 8, 5, 4, 9, 6, 7, 3, 2, 12.0, 11.0, 13.0]\n",
      "PP03I: [2, nan, 3, 1.0]\n",
      "PP07K: [1, 4, nan, 5, 2, 3]\n",
      "\n",
      "Columnas tipo 'object': \n",
      "['CH04', 'CH06', 'CH07', 'CH08', 'NIVEL_ED', 'ESTADO', 'CAT_INAC', 'CAT_OCUP', 'PP06E', 'PP04G', 'PP03I', 'PP07K']\n",
      "\n",
      "Datos no numéricos: \n",
      "{'CH04': {}, 'CH06': {}, 'CH07': {}, 'CH08': {}, 'NIVEL_ED': {}, 'ESTADO': {}, 'CAT_INAC': {}, 'CAT_OCUP': {}, 'PP06E': {}, 'PP04G': {}, 'PP03I': {}, 'PP07K': {}}\n"
     ]
    }
   ],
   "source": [
    "revision(db_recorte)"
   ]
  },
  {
   "cell_type": "code",
   "execution_count": 322,
   "id": "7547cf44-80fd-4fa6-834a-6fa5d80cbded",
   "metadata": {},
   "outputs": [],
   "source": [
    "mapeo_dicc_2 = {\n",
    "    \"CH04\": {},\n",
    "    \"CH06\": {None: np.nan},\n",
    "    \"CH07\": {},\n",
    "    \"CH08\": {None: np.nan},\n",
    "    \"NIVEL_ED\": {},\n",
    "    \"ESTADO\": {None: np.nan},\n",
    "    \"CAT_INAC\": {None: np.nan},\n",
    "    \"CAT_OCUP\": {None: np.nan},\n",
    "    \"PP06E\": {None: np.nan},\n",
    "    \"PP04G\": {None: np.nan},\n",
    "    \"PP03I\": {None: np.nan},\n",
    "    \"PP07K\": {None: np.nan},\n",
    "}"
   ]
  },
  {
   "cell_type": "code",
   "execution_count": 323,
   "id": "bc8d8f80-10a0-45ed-a75b-535aee9c2474",
   "metadata": {},
   "outputs": [],
   "source": [
    "for columna, reemplazos in mapeo_dicc_2.items():\n",
    "    for valor_original, valor_nuevo in reemplazos.items():\n",
    "        db_recorte.loc[db_recorte[columna] == valor_original, columna] = valor_nuevo"
   ]
  },
  {
   "cell_type": "code",
   "execution_count": 324,
   "id": "6a2b9bed-21d2-4e40-a0f0-db48d6d7d850",
   "metadata": {},
   "outputs": [
    {
     "name": "stdout",
     "output_type": "stream",
     "text": [
      "CH04: [2, 1]\n",
      "CH06: [38.0, 21.0, 16.0, 14.0, 11.0, 9, 5.0, 2.0, 0, 77.0, 72.0, 66.0, 35.0, 12.0, 10.0, 32.0, 28.0, 1.0, 89.0, 33.0, 15.0, 6.0, 3.0, 48.0, 13.0, 4.0, 17.0, 37.0, 22.0, 74.0, 76.0, 50.0, 55.0, 47.0, 43.0, 8.0, 51.0, 20.0, 44.0, 58.0, 60.0, 29.0, 90.0, 36.0, 18.0, 31.0, 27.0, 23.0, 19.0, 52.0, 24.0, 56.0, 7.0, 30.0, 39.0, 54.0, 78.0, 49.0, 25.0, 42.0, 67.0, 45.0, 26.0, 34.0, 53.0, 71.0, 40.0, 65.0, 41.0, 59.0, 46.0, 87.0, 82.0, 64.0, 57.0, 61.0, 84.0, 68.0, 69.0, 73.0, 62.0, 63.0, 79.0, 80.0, 86.0, 85.0, 81.0, 97.0, 70.0, 83.0, 88.0, 75.0, 91.0, 93.0, 92.0, 98, nan, 96, 99, 94, 95]\n",
      "CH07: [4, 1, 5, 2, 3]\n",
      "CH08: [4, 1, 2, 12, nan, 3.0, 123.0]\n",
      "NIVEL_ED: [1, 3, 2, 7, 4, 5, 6]\n",
      "ESTADO: [1, 3, 4, 2, nan]\n",
      "CAT_INAC: [nan, 4, 3, 5, 1, 7, 6, 2]\n",
      "CAT_OCUP: [3, nan, 2, 1, 4]\n",
      "PP06E: [nan, 3, 2, 1]\n",
      "PP04G: [10, 1, nan, 8, 5, 4, 9, 6, 7, 3, 2, 12.0, 11.0, 13.0]\n",
      "PP03I: [2, nan, 3, 1.0]\n",
      "PP07K: [1, 4, nan, 5, 2, 3]\n",
      "\n",
      "Columnas tipo 'object': \n",
      "['CH04', 'CH06', 'CH07', 'CH08', 'NIVEL_ED', 'ESTADO', 'CAT_INAC', 'CAT_OCUP', 'PP06E', 'PP04G', 'PP03I', 'PP07K']\n",
      "\n",
      "Datos no numéricos: \n",
      "{'CH04': {}, 'CH06': {}, 'CH07': {}, 'CH08': {}, 'NIVEL_ED': {}, 'ESTADO': {}, 'CAT_INAC': {}, 'CAT_OCUP': {}, 'PP06E': {}, 'PP04G': {}, 'PP03I': {}, 'PP07K': {}}\n"
     ]
    }
   ],
   "source": [
    "revision(db_recorte)"
   ]
  },
  {
   "cell_type": "code",
   "execution_count": 325,
   "id": "5b7ab739-3982-4615-b639-160c6006cc80",
   "metadata": {},
   "outputs": [
    {
     "name": "stdout",
     "output_type": "stream",
     "text": [
      "Index(['CODUSU', 'ANO4', 'CH04', 'CH06', 'CH07', 'CH08', 'NIVEL_ED', 'ESTADO',\n",
      "       'CAT_INAC', 'IPCF', 'CAT_OCUP', 'PP06E', 'PP04G', 'PP03I', 'PP07K',\n",
      "       'P21', 'T_VI', 'ITF'],\n",
      "      dtype='object')\n"
     ]
    }
   ],
   "source": [
    "print(db_recorte.columns)"
   ]
  },
  {
   "cell_type": "code",
   "execution_count": 326,
   "id": "69aa0b03-8a2b-4979-b8a1-113da4fd36d7",
   "metadata": {},
   "outputs": [
    {
     "name": "stderr",
     "output_type": "stream",
     "text": [
      "C:\\Users\\franc\\AppData\\Local\\Temp\\ipykernel_15536\\2157596062.py:2: SettingWithCopyWarning: \n",
      "A value is trying to be set on a copy of a slice from a DataFrame.\n",
      "Try using .loc[row_indexer,col_indexer] = value instead\n",
      "\n",
      "See the caveats in the documentation: https://pandas.pydata.org/pandas-docs/stable/user_guide/indexing.html#returning-a-view-versus-a-copy\n",
      "  db_recorte[col] = db_recorte[col].astype(float)\n",
      "C:\\Users\\franc\\AppData\\Local\\Temp\\ipykernel_15536\\2157596062.py:2: SettingWithCopyWarning: \n",
      "A value is trying to be set on a copy of a slice from a DataFrame.\n",
      "Try using .loc[row_indexer,col_indexer] = value instead\n",
      "\n",
      "See the caveats in the documentation: https://pandas.pydata.org/pandas-docs/stable/user_guide/indexing.html#returning-a-view-versus-a-copy\n",
      "  db_recorte[col] = db_recorte[col].astype(float)\n",
      "C:\\Users\\franc\\AppData\\Local\\Temp\\ipykernel_15536\\2157596062.py:2: SettingWithCopyWarning: \n",
      "A value is trying to be set on a copy of a slice from a DataFrame.\n",
      "Try using .loc[row_indexer,col_indexer] = value instead\n",
      "\n",
      "See the caveats in the documentation: https://pandas.pydata.org/pandas-docs/stable/user_guide/indexing.html#returning-a-view-versus-a-copy\n",
      "  db_recorte[col] = db_recorte[col].astype(float)\n",
      "C:\\Users\\franc\\AppData\\Local\\Temp\\ipykernel_15536\\2157596062.py:2: SettingWithCopyWarning: \n",
      "A value is trying to be set on a copy of a slice from a DataFrame.\n",
      "Try using .loc[row_indexer,col_indexer] = value instead\n",
      "\n",
      "See the caveats in the documentation: https://pandas.pydata.org/pandas-docs/stable/user_guide/indexing.html#returning-a-view-versus-a-copy\n",
      "  db_recorte[col] = db_recorte[col].astype(float)\n",
      "C:\\Users\\franc\\AppData\\Local\\Temp\\ipykernel_15536\\2157596062.py:2: SettingWithCopyWarning: \n",
      "A value is trying to be set on a copy of a slice from a DataFrame.\n",
      "Try using .loc[row_indexer,col_indexer] = value instead\n",
      "\n",
      "See the caveats in the documentation: https://pandas.pydata.org/pandas-docs/stable/user_guide/indexing.html#returning-a-view-versus-a-copy\n",
      "  db_recorte[col] = db_recorte[col].astype(float)\n",
      "C:\\Users\\franc\\AppData\\Local\\Temp\\ipykernel_15536\\2157596062.py:2: SettingWithCopyWarning: \n",
      "A value is trying to be set on a copy of a slice from a DataFrame.\n",
      "Try using .loc[row_indexer,col_indexer] = value instead\n",
      "\n",
      "See the caveats in the documentation: https://pandas.pydata.org/pandas-docs/stable/user_guide/indexing.html#returning-a-view-versus-a-copy\n",
      "  db_recorte[col] = db_recorte[col].astype(float)\n",
      "C:\\Users\\franc\\AppData\\Local\\Temp\\ipykernel_15536\\2157596062.py:2: SettingWithCopyWarning: \n",
      "A value is trying to be set on a copy of a slice from a DataFrame.\n",
      "Try using .loc[row_indexer,col_indexer] = value instead\n",
      "\n",
      "See the caveats in the documentation: https://pandas.pydata.org/pandas-docs/stable/user_guide/indexing.html#returning-a-view-versus-a-copy\n",
      "  db_recorte[col] = db_recorte[col].astype(float)\n",
      "C:\\Users\\franc\\AppData\\Local\\Temp\\ipykernel_15536\\2157596062.py:2: SettingWithCopyWarning: \n",
      "A value is trying to be set on a copy of a slice from a DataFrame.\n",
      "Try using .loc[row_indexer,col_indexer] = value instead\n",
      "\n",
      "See the caveats in the documentation: https://pandas.pydata.org/pandas-docs/stable/user_guide/indexing.html#returning-a-view-versus-a-copy\n",
      "  db_recorte[col] = db_recorte[col].astype(float)\n",
      "C:\\Users\\franc\\AppData\\Local\\Temp\\ipykernel_15536\\2157596062.py:2: SettingWithCopyWarning: \n",
      "A value is trying to be set on a copy of a slice from a DataFrame.\n",
      "Try using .loc[row_indexer,col_indexer] = value instead\n",
      "\n",
      "See the caveats in the documentation: https://pandas.pydata.org/pandas-docs/stable/user_guide/indexing.html#returning-a-view-versus-a-copy\n",
      "  db_recorte[col] = db_recorte[col].astype(float)\n",
      "C:\\Users\\franc\\AppData\\Local\\Temp\\ipykernel_15536\\2157596062.py:2: SettingWithCopyWarning: \n",
      "A value is trying to be set on a copy of a slice from a DataFrame.\n",
      "Try using .loc[row_indexer,col_indexer] = value instead\n",
      "\n",
      "See the caveats in the documentation: https://pandas.pydata.org/pandas-docs/stable/user_guide/indexing.html#returning-a-view-versus-a-copy\n",
      "  db_recorte[col] = db_recorte[col].astype(float)\n",
      "C:\\Users\\franc\\AppData\\Local\\Temp\\ipykernel_15536\\2157596062.py:2: SettingWithCopyWarning: \n",
      "A value is trying to be set on a copy of a slice from a DataFrame.\n",
      "Try using .loc[row_indexer,col_indexer] = value instead\n",
      "\n",
      "See the caveats in the documentation: https://pandas.pydata.org/pandas-docs/stable/user_guide/indexing.html#returning-a-view-versus-a-copy\n",
      "  db_recorte[col] = db_recorte[col].astype(float)\n",
      "C:\\Users\\franc\\AppData\\Local\\Temp\\ipykernel_15536\\2157596062.py:2: SettingWithCopyWarning: \n",
      "A value is trying to be set on a copy of a slice from a DataFrame.\n",
      "Try using .loc[row_indexer,col_indexer] = value instead\n",
      "\n",
      "See the caveats in the documentation: https://pandas.pydata.org/pandas-docs/stable/user_guide/indexing.html#returning-a-view-versus-a-copy\n",
      "  db_recorte[col] = db_recorte[col].astype(float)\n",
      "C:\\Users\\franc\\AppData\\Local\\Temp\\ipykernel_15536\\2157596062.py:2: SettingWithCopyWarning: \n",
      "A value is trying to be set on a copy of a slice from a DataFrame.\n",
      "Try using .loc[row_indexer,col_indexer] = value instead\n",
      "\n",
      "See the caveats in the documentation: https://pandas.pydata.org/pandas-docs/stable/user_guide/indexing.html#returning-a-view-versus-a-copy\n",
      "  db_recorte[col] = db_recorte[col].astype(float)\n",
      "C:\\Users\\franc\\AppData\\Local\\Temp\\ipykernel_15536\\2157596062.py:2: SettingWithCopyWarning: \n",
      "A value is trying to be set on a copy of a slice from a DataFrame.\n",
      "Try using .loc[row_indexer,col_indexer] = value instead\n",
      "\n",
      "See the caveats in the documentation: https://pandas.pydata.org/pandas-docs/stable/user_guide/indexing.html#returning-a-view-versus-a-copy\n",
      "  db_recorte[col] = db_recorte[col].astype(float)\n",
      "C:\\Users\\franc\\AppData\\Local\\Temp\\ipykernel_15536\\2157596062.py:2: SettingWithCopyWarning: \n",
      "A value is trying to be set on a copy of a slice from a DataFrame.\n",
      "Try using .loc[row_indexer,col_indexer] = value instead\n",
      "\n",
      "See the caveats in the documentation: https://pandas.pydata.org/pandas-docs/stable/user_guide/indexing.html#returning-a-view-versus-a-copy\n",
      "  db_recorte[col] = db_recorte[col].astype(float)\n",
      "C:\\Users\\franc\\AppData\\Local\\Temp\\ipykernel_15536\\2157596062.py:2: SettingWithCopyWarning: \n",
      "A value is trying to be set on a copy of a slice from a DataFrame.\n",
      "Try using .loc[row_indexer,col_indexer] = value instead\n",
      "\n",
      "See the caveats in the documentation: https://pandas.pydata.org/pandas-docs/stable/user_guide/indexing.html#returning-a-view-versus-a-copy\n",
      "  db_recorte[col] = db_recorte[col].astype(float)\n",
      "C:\\Users\\franc\\AppData\\Local\\Temp\\ipykernel_15536\\2157596062.py:2: SettingWithCopyWarning: \n",
      "A value is trying to be set on a copy of a slice from a DataFrame.\n",
      "Try using .loc[row_indexer,col_indexer] = value instead\n",
      "\n",
      "See the caveats in the documentation: https://pandas.pydata.org/pandas-docs/stable/user_guide/indexing.html#returning-a-view-versus-a-copy\n",
      "  db_recorte[col] = db_recorte[col].astype(float)\n"
     ]
    }
   ],
   "source": [
    "for col in db_recorte.columns[1:]:\n",
    "    db_recorte[col] = db_recorte[col].astype(float)"
   ]
  },
  {
   "cell_type": "code",
   "execution_count": 327,
   "id": "3cdecbee-90a9-4061-8c51-e774576414d4",
   "metadata": {},
   "outputs": [
    {
     "name": "stdout",
     "output_type": "stream",
     "text": [
      "CODUSU       object\n",
      "ANO4        float64\n",
      "CH04        float64\n",
      "CH06        float64\n",
      "CH07        float64\n",
      "CH08        float64\n",
      "NIVEL_ED    float64\n",
      "ESTADO      float64\n",
      "CAT_INAC    float64\n",
      "IPCF        float64\n",
      "CAT_OCUP    float64\n",
      "PP06E       float64\n",
      "PP04G       float64\n",
      "PP03I       float64\n",
      "PP07K       float64\n",
      "P21         float64\n",
      "T_VI        float64\n",
      "ITF         float64\n",
      "dtype: object\n"
     ]
    }
   ],
   "source": [
    "print(db_recorte.dtypes)"
   ]
  },
  {
   "cell_type": "code",
   "execution_count": 329,
   "id": "4b843168-a5c2-4cda-bc39-b7c80f95e691",
   "metadata": {},
   "outputs": [
    {
     "name": "stdout",
     "output_type": "stream",
     "text": [
      "Valores negativos restantes:\n",
      "IPCF: []\n",
      "P21: [np.float64(-9.0)]\n",
      "T_VI: [np.float64(-9.0)]\n",
      "ITF: []\n"
     ]
    }
   ],
   "source": [
    "# Crear diccionario de verificación para las 4 columnas elegidas que traen información sobre los ingresos\n",
    "verificacion = {}\n",
    "columnas_objetivo = ['IPCF','P21','T_VI','ITF']\n",
    "\n",
    "def chequeo():\n",
    "    for col in columnas_objetivo:\n",
    "            valores_unicos = db_recorte[col].unique()\n",
    "            valores_negativos = [val for val in valores_unicos if not pd.isna(val) and val < 0]\n",
    "            verificacion[col] = valores_negativos\n",
    "\n",
    "    print(\"Valores negativos restantes:\")\n",
    "    for col, valores in verificacion.items():\n",
    "        print(f\"{col}: {valores}\")\n",
    "\n",
    "chequeo()"
   ]
  },
  {
   "cell_type": "code",
   "execution_count": 330,
   "id": "d6019837-4132-4193-b17b-958d32365b6e",
   "metadata": {},
   "outputs": [
    {
     "name": "stderr",
     "output_type": "stream",
     "text": [
      "C:\\Users\\franc\\AppData\\Local\\Temp\\ipykernel_15536\\1802141446.py:2: SettingWithCopyWarning: \n",
      "A value is trying to be set on a copy of a slice from a DataFrame.\n",
      "Try using .loc[row_indexer,col_indexer] = value instead\n",
      "\n",
      "See the caveats in the documentation: https://pandas.pydata.org/pandas-docs/stable/user_guide/indexing.html#returning-a-view-versus-a-copy\n",
      "  db_recorte[db_recorte[columnas_objetivo] == np.float64(-9.0)] = np.nan\n",
      "C:\\Users\\franc\\AppData\\Local\\Temp\\ipykernel_15536\\1802141446.py:2: SettingWithCopyWarning: \n",
      "A value is trying to be set on a copy of a slice from a DataFrame\n",
      "\n",
      "See the caveats in the documentation: https://pandas.pydata.org/pandas-docs/stable/user_guide/indexing.html#returning-a-view-versus-a-copy\n",
      "  db_recorte[db_recorte[columnas_objetivo] == np.float64(-9.0)] = np.nan\n",
      "C:\\Users\\franc\\AppData\\Local\\Temp\\ipykernel_15536\\1802141446.py:2: SettingWithCopyWarning: \n",
      "A value is trying to be set on a copy of a slice from a DataFrame.\n",
      "Try using .loc[row_indexer,col_indexer] = value instead\n",
      "\n",
      "See the caveats in the documentation: https://pandas.pydata.org/pandas-docs/stable/user_guide/indexing.html#returning-a-view-versus-a-copy\n",
      "  db_recorte[db_recorte[columnas_objetivo] == np.float64(-9.0)] = np.nan\n",
      "C:\\Users\\franc\\AppData\\Local\\Temp\\ipykernel_15536\\1802141446.py:2: SettingWithCopyWarning: \n",
      "A value is trying to be set on a copy of a slice from a DataFrame\n",
      "\n",
      "See the caveats in the documentation: https://pandas.pydata.org/pandas-docs/stable/user_guide/indexing.html#returning-a-view-versus-a-copy\n",
      "  db_recorte[db_recorte[columnas_objetivo] == np.float64(-9.0)] = np.nan\n",
      "C:\\Users\\franc\\AppData\\Local\\Temp\\ipykernel_15536\\1802141446.py:2: SettingWithCopyWarning: \n",
      "A value is trying to be set on a copy of a slice from a DataFrame.\n",
      "Try using .loc[row_indexer,col_indexer] = value instead\n",
      "\n",
      "See the caveats in the documentation: https://pandas.pydata.org/pandas-docs/stable/user_guide/indexing.html#returning-a-view-versus-a-copy\n",
      "  db_recorte[db_recorte[columnas_objetivo] == np.float64(-9.0)] = np.nan\n",
      "C:\\Users\\franc\\AppData\\Local\\Temp\\ipykernel_15536\\1802141446.py:2: SettingWithCopyWarning: \n",
      "A value is trying to be set on a copy of a slice from a DataFrame\n",
      "\n",
      "See the caveats in the documentation: https://pandas.pydata.org/pandas-docs/stable/user_guide/indexing.html#returning-a-view-versus-a-copy\n",
      "  db_recorte[db_recorte[columnas_objetivo] == np.float64(-9.0)] = np.nan\n",
      "C:\\Users\\franc\\AppData\\Local\\Temp\\ipykernel_15536\\1802141446.py:2: SettingWithCopyWarning: \n",
      "A value is trying to be set on a copy of a slice from a DataFrame.\n",
      "Try using .loc[row_indexer,col_indexer] = value instead\n",
      "\n",
      "See the caveats in the documentation: https://pandas.pydata.org/pandas-docs/stable/user_guide/indexing.html#returning-a-view-versus-a-copy\n",
      "  db_recorte[db_recorte[columnas_objetivo] == np.float64(-9.0)] = np.nan\n",
      "C:\\Users\\franc\\AppData\\Local\\Temp\\ipykernel_15536\\1802141446.py:2: SettingWithCopyWarning: \n",
      "A value is trying to be set on a copy of a slice from a DataFrame\n",
      "\n",
      "See the caveats in the documentation: https://pandas.pydata.org/pandas-docs/stable/user_guide/indexing.html#returning-a-view-versus-a-copy\n",
      "  db_recorte[db_recorte[columnas_objetivo] == np.float64(-9.0)] = np.nan\n"
     ]
    }
   ],
   "source": [
    "for col in columnas_objetivo:\n",
    "    db_recorte[db_recorte[columnas_objetivo] == np.float64(-9.0)] = np.nan"
   ]
  },
  {
   "cell_type": "code",
   "execution_count": 331,
   "id": "31306b2f-4ab7-411f-8154-8261e7c03b5c",
   "metadata": {},
   "outputs": [
    {
     "name": "stdout",
     "output_type": "stream",
     "text": [
      "Valores negativos restantes:\n",
      "IPCF: []\n",
      "P21: []\n",
      "T_VI: []\n",
      "ITF: []\n"
     ]
    }
   ],
   "source": [
    "chequeo()"
   ]
  },
  {
   "cell_type": "code",
   "execution_count": 332,
   "id": "313cddb6-7a5b-495b-b5ca-0274f898dd51",
   "metadata": {},
   "outputs": [
    {
     "name": "stdout",
     "output_type": "stream",
     "text": [
      "\n",
      "Columnas tipo 'object': \n",
      "[]\n",
      "\n",
      "Datos no numéricos: \n",
      "{}\n"
     ]
    }
   ],
   "source": [
    "revision(db_recorte)"
   ]
  },
  {
   "cell_type": "markdown",
   "id": "365d2d47-5795-4215-95d9-f9732eb57faa",
   "metadata": {},
   "source": [
    "### Visualización 'Heatmap' de valores nulos (NaNs)"
   ]
  },
  {
   "cell_type": "code",
   "execution_count": 333,
   "id": "a6e3f56c-9f30-4956-9d59-5c877f379278",
   "metadata": {},
   "outputs": [],
   "source": [
    "import matplotlib.pyplot as plt\n",
    "import seaborn as sns"
   ]
  },
  {
   "cell_type": "code",
   "execution_count": 334,
   "id": "5325913e-94f4-4e0b-9b49-fe765a1d4075",
   "metadata": {},
   "outputs": [
    {
     "ename": "KeyError",
     "evalue": "\"['index'] not found in axis\"",
     "output_type": "error",
     "traceback": [
      "\u001b[1;31m---------------------------------------------------------------------------\u001b[0m",
      "\u001b[1;31mKeyError\u001b[0m                                  Traceback (most recent call last)",
      "Cell \u001b[1;32mIn[334], line 1\u001b[0m\n\u001b[1;32m----> 1\u001b[0m db_recorte\u001b[38;5;241m.\u001b[39mdrop(columns\u001b[38;5;241m=\u001b[39m[\u001b[38;5;124m'\u001b[39m\u001b[38;5;124mindex\u001b[39m\u001b[38;5;124m'\u001b[39m],inplace\u001b[38;5;241m=\u001b[39m\u001b[38;5;28;01mTrue\u001b[39;00m)\n\u001b[0;32m      2\u001b[0m db_recorte\u001b[38;5;241m.\u001b[39mset_index(\u001b[38;5;124m'\u001b[39m\u001b[38;5;124mANO4\u001b[39m\u001b[38;5;124m'\u001b[39m,inplace \u001b[38;5;241m=\u001b[39m \u001b[38;5;28;01mTrue\u001b[39;00m)\n",
      "File \u001b[1;32m~\\anaconda3\\envs\\primerentorno\\Lib\\site-packages\\pandas\\core\\frame.py:5581\u001b[0m, in \u001b[0;36mDataFrame.drop\u001b[1;34m(self, labels, axis, index, columns, level, inplace, errors)\u001b[0m\n\u001b[0;32m   5433\u001b[0m \u001b[38;5;28;01mdef\u001b[39;00m \u001b[38;5;21mdrop\u001b[39m(\n\u001b[0;32m   5434\u001b[0m     \u001b[38;5;28mself\u001b[39m,\n\u001b[0;32m   5435\u001b[0m     labels: IndexLabel \u001b[38;5;241m|\u001b[39m \u001b[38;5;28;01mNone\u001b[39;00m \u001b[38;5;241m=\u001b[39m \u001b[38;5;28;01mNone\u001b[39;00m,\n\u001b[1;32m   (...)\u001b[0m\n\u001b[0;32m   5442\u001b[0m     errors: IgnoreRaise \u001b[38;5;241m=\u001b[39m \u001b[38;5;124m\"\u001b[39m\u001b[38;5;124mraise\u001b[39m\u001b[38;5;124m\"\u001b[39m,\n\u001b[0;32m   5443\u001b[0m ) \u001b[38;5;241m-\u001b[39m\u001b[38;5;241m>\u001b[39m DataFrame \u001b[38;5;241m|\u001b[39m \u001b[38;5;28;01mNone\u001b[39;00m:\n\u001b[0;32m   5444\u001b[0m \u001b[38;5;250m    \u001b[39m\u001b[38;5;124;03m\"\"\"\u001b[39;00m\n\u001b[0;32m   5445\u001b[0m \u001b[38;5;124;03m    Drop specified labels from rows or columns.\u001b[39;00m\n\u001b[0;32m   5446\u001b[0m \n\u001b[1;32m   (...)\u001b[0m\n\u001b[0;32m   5579\u001b[0m \u001b[38;5;124;03m            weight  1.0     0.8\u001b[39;00m\n\u001b[0;32m   5580\u001b[0m \u001b[38;5;124;03m    \"\"\"\u001b[39;00m\n\u001b[1;32m-> 5581\u001b[0m     \u001b[38;5;28;01mreturn\u001b[39;00m \u001b[38;5;28msuper\u001b[39m()\u001b[38;5;241m.\u001b[39mdrop(\n\u001b[0;32m   5582\u001b[0m         labels\u001b[38;5;241m=\u001b[39mlabels,\n\u001b[0;32m   5583\u001b[0m         axis\u001b[38;5;241m=\u001b[39maxis,\n\u001b[0;32m   5584\u001b[0m         index\u001b[38;5;241m=\u001b[39mindex,\n\u001b[0;32m   5585\u001b[0m         columns\u001b[38;5;241m=\u001b[39mcolumns,\n\u001b[0;32m   5586\u001b[0m         level\u001b[38;5;241m=\u001b[39mlevel,\n\u001b[0;32m   5587\u001b[0m         inplace\u001b[38;5;241m=\u001b[39minplace,\n\u001b[0;32m   5588\u001b[0m         errors\u001b[38;5;241m=\u001b[39merrors,\n\u001b[0;32m   5589\u001b[0m     )\n",
      "File \u001b[1;32m~\\anaconda3\\envs\\primerentorno\\Lib\\site-packages\\pandas\\core\\generic.py:4788\u001b[0m, in \u001b[0;36mNDFrame.drop\u001b[1;34m(self, labels, axis, index, columns, level, inplace, errors)\u001b[0m\n\u001b[0;32m   4786\u001b[0m \u001b[38;5;28;01mfor\u001b[39;00m axis, labels \u001b[38;5;129;01min\u001b[39;00m axes\u001b[38;5;241m.\u001b[39mitems():\n\u001b[0;32m   4787\u001b[0m     \u001b[38;5;28;01mif\u001b[39;00m labels \u001b[38;5;129;01mis\u001b[39;00m \u001b[38;5;129;01mnot\u001b[39;00m \u001b[38;5;28;01mNone\u001b[39;00m:\n\u001b[1;32m-> 4788\u001b[0m         obj \u001b[38;5;241m=\u001b[39m obj\u001b[38;5;241m.\u001b[39m_drop_axis(labels, axis, level\u001b[38;5;241m=\u001b[39mlevel, errors\u001b[38;5;241m=\u001b[39merrors)\n\u001b[0;32m   4790\u001b[0m \u001b[38;5;28;01mif\u001b[39;00m inplace:\n\u001b[0;32m   4791\u001b[0m     \u001b[38;5;28mself\u001b[39m\u001b[38;5;241m.\u001b[39m_update_inplace(obj)\n",
      "File \u001b[1;32m~\\anaconda3\\envs\\primerentorno\\Lib\\site-packages\\pandas\\core\\generic.py:4830\u001b[0m, in \u001b[0;36mNDFrame._drop_axis\u001b[1;34m(self, labels, axis, level, errors, only_slice)\u001b[0m\n\u001b[0;32m   4828\u001b[0m         new_axis \u001b[38;5;241m=\u001b[39m axis\u001b[38;5;241m.\u001b[39mdrop(labels, level\u001b[38;5;241m=\u001b[39mlevel, errors\u001b[38;5;241m=\u001b[39merrors)\n\u001b[0;32m   4829\u001b[0m     \u001b[38;5;28;01melse\u001b[39;00m:\n\u001b[1;32m-> 4830\u001b[0m         new_axis \u001b[38;5;241m=\u001b[39m axis\u001b[38;5;241m.\u001b[39mdrop(labels, errors\u001b[38;5;241m=\u001b[39merrors)\n\u001b[0;32m   4831\u001b[0m     indexer \u001b[38;5;241m=\u001b[39m axis\u001b[38;5;241m.\u001b[39mget_indexer(new_axis)\n\u001b[0;32m   4833\u001b[0m \u001b[38;5;66;03m# Case for non-unique axis\u001b[39;00m\n\u001b[0;32m   4834\u001b[0m \u001b[38;5;28;01melse\u001b[39;00m:\n",
      "File \u001b[1;32m~\\anaconda3\\envs\\primerentorno\\Lib\\site-packages\\pandas\\core\\indexes\\base.py:7070\u001b[0m, in \u001b[0;36mIndex.drop\u001b[1;34m(self, labels, errors)\u001b[0m\n\u001b[0;32m   7068\u001b[0m \u001b[38;5;28;01mif\u001b[39;00m mask\u001b[38;5;241m.\u001b[39many():\n\u001b[0;32m   7069\u001b[0m     \u001b[38;5;28;01mif\u001b[39;00m errors \u001b[38;5;241m!=\u001b[39m \u001b[38;5;124m\"\u001b[39m\u001b[38;5;124mignore\u001b[39m\u001b[38;5;124m\"\u001b[39m:\n\u001b[1;32m-> 7070\u001b[0m         \u001b[38;5;28;01mraise\u001b[39;00m \u001b[38;5;167;01mKeyError\u001b[39;00m(\u001b[38;5;124mf\u001b[39m\u001b[38;5;124m\"\u001b[39m\u001b[38;5;132;01m{\u001b[39;00mlabels[mask]\u001b[38;5;241m.\u001b[39mtolist()\u001b[38;5;132;01m}\u001b[39;00m\u001b[38;5;124m not found in axis\u001b[39m\u001b[38;5;124m\"\u001b[39m)\n\u001b[0;32m   7071\u001b[0m     indexer \u001b[38;5;241m=\u001b[39m indexer[\u001b[38;5;241m~\u001b[39mmask]\n\u001b[0;32m   7072\u001b[0m \u001b[38;5;28;01mreturn\u001b[39;00m \u001b[38;5;28mself\u001b[39m\u001b[38;5;241m.\u001b[39mdelete(indexer)\n",
      "\u001b[1;31mKeyError\u001b[0m: \"['index'] not found in axis\""
     ]
    }
   ],
   "source": [
    "db_recorte.drop(columns=['index'],inplace=True)\n",
    "db_recorte.set_index('ANO4',inplace = True)"
   ]
  },
  {
   "cell_type": "code",
   "execution_count": 336,
   "id": "80f61e8b-68de-43f9-b2f0-e6db93809345",
   "metadata": {},
   "outputs": [
    {
     "name": "stderr",
     "output_type": "stream",
     "text": [
      "C:\\Users\\franc\\AppData\\Local\\Temp\\ipykernel_15536\\2008343222.py:2: DeprecationWarning: DataFrameGroupBy.apply operated on the grouping columns. This behavior is deprecated, and in a future version of pandas the grouping columns will be excluded from the operation. Either pass `include_groups=False` to exclude the groupings or explicitly select the grouping columns after groupby to silence this warning.\n",
      "  na_counts = db_recorte.groupby(\"ANO4\").apply(lambda x: x.isna().mean() * 100)\n"
     ]
    },
    {
     "data": {
      "image/png": "[encoded data removed]",
      "text/plain": [
       "<Figure size 1200x500 with 4 Axes>"
      ]
     },
     "metadata": {},
     "output_type": "display_data"
    }
   ],
   "source": [
    "# Contar NaN por año y columna en porcentaje\n",
    "na_counts = db_recorte.groupby(\"ANO4\").apply(lambda x: x.isna().mean() * 100)\n",
    "\n",
    "# Crear subplots (1 fila, 2 columnas)\n",
    "fig, axes = plt.subplots(1, 2, figsize=(12, 5))\n",
    "\n",
    "# Iterar sobre los años\n",
    "for i, year in enumerate([2005, 2025]):\n",
    "    sns.heatmap(\n",
    "        na_counts.loc[year].to_frame(),  # convierto a fila única\n",
    "        annot=True, fmt=\".2f\",           # decimales\n",
    "        cmap=\"coolwarm\",\n",
    "        cbar=True,                       # dejo la barra de colores en %\n",
    "        ax=axes[i]\n",
    "    )\n",
    "    axes[i].set_title(f\"Valores faltantes (%) - {year}\")\n",
    "    axes[i].set_ylabel(\"\")  # saco el label del eje Y\n",
    "    axes[i].set_xticks([])\n",
    "\n",
    "plt.tight_layout()\n",
    "plt.savefig('heatmap_individuos_nulos.png')\n",
    "plt.show()"
   ]
  },
  {
   "cell_type": "markdown",
   "id": "416f57e0-0e2d-48a7-ac4a-02f029720a8c",
   "metadata": {},
   "source": [
    "## Parte II. Primer Análisis Exploratorio"
   ]
  },
  {
   "cell_type": "markdown",
   "id": "1b6923ae-94b7-4a8a-ac7c-e970980b71c2",
   "metadata": {},
   "source": [
    "### Composición de la EPH por sexo, según año de encuesta"
   ]
  },
  {
   "cell_type": "code",
   "execution_count": 337,
   "id": "30ba0378-b212-4b39-b609-24ebac294d74",
   "metadata": {},
   "outputs": [
    {
     "name": "stderr",
     "output_type": "stream",
     "text": [
      "C:\\Users\\franc\\AppData\\Local\\Temp\\ipykernel_15536\\3259631261.py:2: SettingWithCopyWarning: \n",
      "A value is trying to be set on a copy of a slice from a DataFrame.\n",
      "Try using .loc[row_indexer,col_indexer] = value instead\n",
      "\n",
      "See the caveats in the documentation: https://pandas.pydata.org/pandas-docs/stable/user_guide/indexing.html#returning-a-view-versus-a-copy\n",
      "  db_recorte['Sexo'] = db_recorte['CH04'].map({1: 'Varón', 2: 'Mujer'})\n",
      "C:\\Users\\franc\\AppData\\Local\\Temp\\ipykernel_15536\\3259631261.py:35: UserWarning: set_ticklabels() should only be used with a fixed number of ticks, i.e. after set_ticks() or using a FixedLocator.\n",
      "  ax.set_xticklabels([int(float(tick.get_text())) for tick in ax.get_xticklabels()])\n"
     ]
    },
    {
     "data": {
      "image/png": "[encoded data removed]",
      "text/plain": [
       "<Figure size 1000x500 with 1 Axes>"
      ]
     },
     "metadata": {},
     "output_type": "display_data"
    }
   ],
   "source": [
    "# Crear columna de sexo\n",
    "db_recorte['Sexo'] = db_recorte['CH04'].map({1: 'Varón', 2: 'Mujer'})\n",
    "\n",
    "# Calcular counts por año y sexo\n",
    "counts = db_recorte.groupby(['ANO4','Sexo']).size().reset_index(name='count')\n",
    "\n",
    "# Calcular porcentaje por año usando transform\n",
    "counts['pct'] = counts.groupby('ANO4')['count'].transform(lambda x: 100 * x / x.sum())\n",
    "\n",
    "plt.figure(figsize=(10,5))\n",
    "ax = sns.barplot(\n",
    "    data=counts,\n",
    "    x='ANO4',\n",
    "    y='pct',           # porcentaje en lugar de count\n",
    "    hue='Sexo',\n",
    "    palette={'Varón':'lightblue','Mujer':'pink'}\n",
    ")\n",
    "\n",
    "# Agregar los valores de porcentaje dentro de cada barra\n",
    "for p in ax.patches:\n",
    "    height = p.get_height()\n",
    "    if height == 0:   # <- ignorar barras con valor 0\n",
    "        continue\n",
    "    ax.text(\n",
    "        x=p.get_x() + p.get_width()/2,\n",
    "        y=height / 2,\n",
    "        s=f'{height:.1f}%',\n",
    "        ha='center',\n",
    "        va='center',\n",
    "        fontsize=10,\n",
    "        color='black'\n",
    "    )\n",
    "\n",
    "# Ajustar ticks del eje X a enteros\n",
    "ax.set_xticklabels([int(float(tick.get_text())) for tick in ax.get_xticklabels()])\n",
    "\n",
    "# Leyenda\n",
    "ax.legend(title='Sexo', loc='upper right', bbox_to_anchor=(1.15,1))\n",
    "\n",
    "plt.ylabel(\"Porcentaje (%)\")\n",
    "plt.xlabel(\"Año de encuesta\")\n",
    "plt.title(\"Composición de encuestados en la EPH por sexo, según año de encuesta\")\n",
    "plt.savefig(\"composicion_sexo_eph.png\",bbox_inches='tight')\n",
    "plt.show()"
   ]
  },
  {
   "cell_type": "markdown",
   "id": "78c87d4b-a11d-4c3e-bdb6-f5cf0fa40498",
   "metadata": {},
   "source": [
    "### Matriz de correlaciones entre variables"
   ]
  },
  {
   "cell_type": "markdown",
   "id": "44d20445-64a5-4881-b603-dfe94e723040",
   "metadata": {},
   "source": [
    "Variables a correlacionar:\n",
    "- CH04\n",
    "- CH06\n",
    "- CH07\n",
    "- CH08\n",
    "- NIVEL_ED\n",
    "- ESTADO\n",
    "- CAT_INAC\n",
    "- IPCF"
   ]
  },
  {
   "cell_type": "markdown",
   "id": "e2028aec-8d90-4a23-ba6d-b6cd166b6397",
   "metadata": {},
   "source": [
    "Primero, desdoblamos las variables que correspondan entre variables dummies.\n",
    "Estas serán:\n",
    "- CH04 (Sexo)\n",
    "- CH07 (Estado civil)\n",
    "- CH08 (Tipo de cobertura médica)\n",
    "- NIVEL_ED (Nivel educativo)\n",
    "- ESTADO (Condición de actividad)\n",
    "- CAT_INAC (Categoría de inactividad)"
   ]
  },
  {
   "cell_type": "code",
   "execution_count": 338,
   "id": "5bec941d-4d5a-4452-be3c-fa9c0e7bf6d9",
   "metadata": {},
   "outputs": [],
   "source": [
    "categoricas = ['CH04','CH07','CH08','NIVEL_ED','ESTADO','CAT_INAC']\n",
    "corrpanel = db_recorte.copy()\n",
    "corrpanel.drop(columns=['Sexo'],inplace=True)\n",
    "\n",
    "def dummies(variable,codigo,descripcion):\n",
    "    \"\"\" \n",
    "    Crea nuevas variables dummies a partir de los argumentos especificados.\n",
    "    Las referencias son:\n",
    "    - Variable: es el 'código' a desdoblar en dummies (CH04, CH06, etc.)\n",
    "    - Código: es la categoría dentro de la variable que se quiere generar como una dummy (que adopte '1' en la fila en la que figura, '0' si no figura, o 'NaN' si originalmente la columna está vacía)\n",
    "    - Descripción: es la descripción del código de la variable\n",
    "\n",
    "    Ejemplo:\n",
    "    La variable CH07 indica el estado civil.\n",
    "    Sus código son:\n",
    "        - 1: unido\n",
    "        - 2: casado:\n",
    "        - 3: separado\n",
    "        - 4: viudo\n",
    "        - 5: soltero\n",
    "\n",
    "    Entonces, la declaracion de 'dummies(CH07,5,Soltero) generará una columna con título 'Soltero' que tendrá '1' como valor en las filas donde fuera '5' el código en 'CH04', '0' si no lo fuera y 'NaN' si fuera vacío. \n",
    "    \"\"\"\n",
    "    mask_valid = corrpanel[variable].notna()\n",
    "    corrpanel.loc[mask_valid & (corrpanel[variable] == int(codigo)), descripcion] = 1\n",
    "    corrpanel.loc[mask_valid & (corrpanel[variable] != int(codigo)), descripcion] = 0"
   ]
  },
  {
   "cell_type": "code",
   "execution_count": 339,
   "id": "f9e141a7-d470-47ce-8e3c-d9d9ce8f242b",
   "metadata": {},
   "outputs": [
    {
     "name": "stdout",
     "output_type": "stream",
     "text": [
      "                              CODUSU    ANO4  CH04  CH06  CH07  CH08  \\\n",
      "18832                       125012    2005.0   2.0  38.0   4.0   4.0   \n",
      "18833                       125012    2005.0   1.0  21.0   1.0   1.0   \n",
      "18834                       125012    2005.0   2.0  21.0   1.0   4.0   \n",
      "18835                       125012    2005.0   1.0  16.0   5.0   4.0   \n",
      "18836                       125012    2005.0   2.0  14.0   5.0   4.0   \n",
      "...                              ...     ...   ...   ...   ...   ...   \n",
      "45404  TQRMNORSXHMOKUCDEFOCD00882445  2025.0   2.0  27.0   5.0   4.0   \n",
      "45405  TQRMNORSXHMOKUCDEFOCD00882445  2025.0   1.0  31.0   5.0   4.0   \n",
      "45411  TQRMNOUYVHMOKPCDEGIBJ00882481  2025.0   2.0  44.0   3.0   3.0   \n",
      "45412  TQRMNOUYVHMOKPCDEGIBJ00882481  2025.0   1.0  24.0   5.0   3.0   \n",
      "45413  TQRMNOUYVHMOKPCDEGIBJ00882481  2025.0   2.0  12.0   5.0   3.0   \n",
      "\n",
      "       NIVEL_ED  ESTADO  CAT_INAC       IPCF  CAT_OCUP  PP06E  PP04G  PP03I  \\\n",
      "18832       1.0     1.0       NaN      36.00       3.0    NaN   10.0    2.0   \n",
      "18833       1.0     1.0       NaN      36.00       3.0    NaN    1.0    2.0   \n",
      "18834       3.0     3.0       4.0      36.00       NaN    NaN    NaN    NaN   \n",
      "18835       1.0     3.0       3.0      36.00       NaN    NaN    NaN    NaN   \n",
      "18836       2.0     3.0       3.0      36.00       NaN    NaN    NaN    NaN   \n",
      "...         ...     ...       ...        ...       ...    ...    ...    ...   \n",
      "45404       4.0     1.0       NaN       0.00       3.0    NaN    NaN    2.0   \n",
      "45405       3.0     1.0       NaN       0.00       3.0    NaN    3.0    2.0   \n",
      "45411       7.0     3.0       4.0  137666.67       NaN    NaN    NaN    NaN   \n",
      "45412       3.0     3.0       4.0  137666.67       NaN    NaN    NaN    NaN   \n",
      "45413       1.0     3.0       3.0  137666.67       NaN    NaN    NaN    NaN   \n",
      "\n",
      "       PP07K       P21      T_VI       ITF  Varón  Mujer  \n",
      "18832    1.0     150.0       0.0     360.0    0.0    1.0  \n",
      "18833    4.0       0.0     210.0     360.0    1.0    0.0  \n",
      "18834    NaN       0.0       0.0     360.0    0.0    1.0  \n",
      "18835    NaN       0.0       0.0     360.0    1.0    0.0  \n",
      "18836    NaN       0.0       0.0     360.0    0.0    1.0  \n",
      "...      ...       ...       ...       ...    ...    ...  \n",
      "45404    4.0  250000.0       0.0       0.0    0.0    1.0  \n",
      "45405    4.0       NaN       0.0       0.0    1.0    0.0  \n",
      "45411    NaN       0.0  413000.0  413000.0    0.0    1.0  \n",
      "45412    NaN       0.0       0.0  413000.0    1.0    0.0  \n",
      "45413    NaN       0.0       0.0  413000.0    0.0    1.0  \n",
      "\n",
      "[10199 rows x 20 columns]\n"
     ]
    }
   ],
   "source": [
    "dummies('CH04',1,'Varón')\n",
    "dummies('CH04',2,'Mujer')\n",
    "print(corrpanel)"
   ]
  },
  {
   "cell_type": "code",
   "execution_count": 340,
   "id": "8296c20a-df2f-4afe-bb9c-106d14a79e4a",
   "metadata": {},
   "outputs": [],
   "source": [
    "dummies('CH07',1,'Unido')\n",
    "dummies('CH07',2,'Casado')\n",
    "dummies('CH07',3,'Separado')\n",
    "dummies('CH07',4,'Viudo')\n",
    "dummies('CH07',5,'Soltero')\n",
    "dummies('CH08',1,'OS')\n",
    "dummies('CH08',2,'Prep.')\n",
    "dummies('CH08',3,'Publica')\n",
    "dummies('CH08',4,'-')\n",
    "dummies('CH08',12,'OS_Prep.')\n",
    "dummies('CH08',13,'OS_Publica')\n",
    "dummies('CH08',23,'Prep_Publica')\n",
    "dummies('CH08',123,'OS_Prep_Publica')\n",
    "dummies('NIVEL_ED',1,'Prim_inc')\n",
    "dummies('NIVEL_ED',2,'Prim_com')\n",
    "dummies('NIVEL_ED',3,'Sec_inc')\n",
    "dummies('NIVEL_ED',4,'Sec_com')\n",
    "dummies('NIVEL_ED',5,'Sup_inc')\n",
    "dummies('NIVEL_ED',6,'Sup_com')\n",
    "dummies('NIVEL_ED',7,'No_educ')\n",
    "dummies('ESTADO',1,'Ocupado')\n",
    "dummies('ESTADO',2,'Desocupado')\n",
    "dummies('ESTADO',3,'Inactivo')\n",
    "dummies('ESTADO',4,'Menor_10y')\n",
    "dummies('CAT_INAC',1,'Jubilado')\n",
    "dummies('CAT_INAC',2,'Rentista')\n",
    "dummies('CAT_INAC',3,'Estudiante')\n",
    "dummies('CAT_INAC',4,'Ama')\n",
    "dummies('CAT_INAC',5,'Menor_6y')\n",
    "dummies('CAT_INAC',6,'Discapac')\n",
    "dummies('CAT_INAC',7,'Otros')"
   ]
  },
  {
   "cell_type": "code",
   "execution_count": 341,
   "id": "18f5de75-178c-4a51-87c5-7ad9425a4df0",
   "metadata": {},
   "outputs": [
    {
     "name": "stdout",
     "output_type": "stream",
     "text": [
      "Index(['CODUSU', 'ANO4', 'CH04', 'CH06', 'CH07', 'CH08', 'NIVEL_ED', 'ESTADO',\n",
      "       'CAT_INAC', 'IPCF', 'CAT_OCUP', 'PP06E', 'PP04G', 'PP03I', 'PP07K',\n",
      "       'P21', 'T_VI', 'ITF', 'Varón', 'Mujer', 'Unido', 'Casado', 'Separado',\n",
      "       'Viudo', 'Soltero', 'OS', 'Prep.', 'Publica', '-', 'OS_Prep.',\n",
      "       'OS_Publica', 'Prep_Publica', 'OS_Prep_Publica', 'Prim_inc', 'Prim_com',\n",
      "       'Sec_inc', 'Sec_com', 'Sup_inc', 'Sup_com', 'No_educ', 'Ocupado',\n",
      "       'Desocupado', 'Inactivo', 'Menor_10y', 'Jubilado', 'Rentista',\n",
      "       'Estudiante', 'Ama', 'Menor_6y', 'Discapac', 'Otros'],\n",
      "      dtype='object')\n"
     ]
    }
   ],
   "source": [
    "print(corrpanel.columns)"
   ]
  },
  {
   "cell_type": "code",
   "execution_count": 342,
   "id": "4224881d-2c00-4d41-81ae-d7573191da4e",
   "metadata": {},
   "outputs": [],
   "source": [
    "corrpanel.drop(columns=categoricas,inplace=True)"
   ]
  },
  {
   "cell_type": "code",
   "execution_count": 343,
   "id": "3ea6f72c-b9e6-4e2d-bc9c-d3f1ce690bdc",
   "metadata": {},
   "outputs": [],
   "source": [
    "corrpanel.rename(columns={'-':'Sin_cobertura'}, inplace = True)"
   ]
  },
  {
   "cell_type": "code",
   "execution_count": 344,
   "id": "20ad04e4-c77f-4177-90e2-1a191fd2b11b",
   "metadata": {},
   "outputs": [
    {
     "name": "stdout",
     "output_type": "stream",
     "text": [
      "Index(['CODUSU', 'ANO4', 'CH06', 'IPCF', 'CAT_OCUP', 'PP06E', 'PP04G', 'PP03I',\n",
      "       'PP07K', 'P21', 'T_VI', 'ITF', 'Varón', 'Mujer', 'Unido', 'Casado',\n",
      "       'Separado', 'Viudo', 'Soltero', 'OS', 'Prep.', 'Publica',\n",
      "       'Sin_cobertura', 'OS_Prep.', 'OS_Publica', 'Prep_Publica',\n",
      "       'OS_Prep_Publica', 'Prim_inc', 'Prim_com', 'Sec_inc', 'Sec_com',\n",
      "       'Sup_inc', 'Sup_com', 'No_educ', 'Ocupado', 'Desocupado', 'Inactivo',\n",
      "       'Menor_10y', 'Jubilado', 'Rentista', 'Estudiante', 'Ama', 'Menor_6y',\n",
      "       'Discapac', 'Otros'],\n",
      "      dtype='object')\n"
     ]
    }
   ],
   "source": [
    "print(corrpanel.columns)"
   ]
  },
  {
   "cell_type": "code",
   "execution_count": 368,
   "id": "37ecf61b-568a-4147-a655-15202f78fbe3",
   "metadata": {},
   "outputs": [
    {
     "name": "stdout",
     "output_type": "stream",
     "text": [
      "Index(['CODUSU', 'ANO4', 'CH06', 'IPCF', 'ITF', 'Varón', 'Mujer', 'Unido',\n",
      "       'Casado', 'Separado', 'Viudo', 'Soltero', 'OS', 'Prep.', 'Publica',\n",
      "       'Sin_cobertura', 'OS_Prep.', 'OS_Publica', 'Prep_Publica',\n",
      "       'OS_Prep_Publica', 'Prim_inc', 'Prim_com', 'Sec_inc', 'Sec_com',\n",
      "       'Sup_inc', 'Sup_com', 'No_educ', 'Ocupado', 'Desocupado', 'Inactivo',\n",
      "       'Menor_10y', 'Jubilado', 'Rentista', 'Estudiante', 'Ama', 'Menor_6y',\n",
      "       'Discapac', 'Otros'],\n",
      "      dtype='object')\n"
     ]
    }
   ],
   "source": [
    "matrizej = corrpanel.copy()\n",
    "matrizej.drop(columns = ['CAT_OCUP','PP06E','PP04G','PP03I','PP07K','P21','T_VI'], inplace = True)\n",
    "print(matrizej.columns)"
   ]
  },
  {
   "cell_type": "code",
   "execution_count": 369,
   "id": "a895f641-64b6-48ff-ad58-3be75be7e200",
   "metadata": {},
   "outputs": [],
   "source": [
    "matrizej.rename(columns = {'CH06':'Edad' , 'IPCF': 'Y per-cap fliar'},inplace = True)"
   ]
  },
  {
   "cell_type": "code",
   "execution_count": 371,
   "id": "aab845b8-94ef-4e1e-a9ee-7c1d4e065e58",
   "metadata": {},
   "outputs": [
    {
     "data": {
      "image/png": "[encoded data removed]",
      "text/plain": [
       "<Figure size 1300x800 with 2 Axes>"
      ]
     },
     "metadata": {},
     "output_type": "display_data"
    }
   ],
   "source": [
    "# Crear una copia de matrizej sin la columna 'CODUSU'\n",
    "matriz_sin_codusu = matrizej.drop(columns=['CODUSU'])\n",
    "\n",
    "# Matriz de correlaciones\n",
    "corr = matriz_sin_codusu.corr()\n",
    "\n",
    "# Máscara para triángulo superior\n",
    "upp_mat = np.triu(corr)\n",
    "\n",
    "# Anotaciones selectivas\n",
    "annot = corr.round(2).astype(str)\n",
    "annot_masked = annot.where(corr.abs() > 0.5, other=\"\")\n",
    "\n",
    "plt.figure(figsize=(13,8))\n",
    "ax = sns.heatmap(\n",
    "    corr,\n",
    "    vmin=-1, vmax=1,\n",
    "    cmap=\"coolwarm\",\n",
    "    mask=upp_mat,\n",
    "    annot=annot_masked,\n",
    "    fmt='',\n",
    "    cbar=True,\n",
    "    annot_kws={\"color\": \"white\", \"fontsize\": 7}\n",
    ")\n",
    "\n",
    "# Ajustes de ejes\n",
    "ax.xaxis.set_label_position('top')\n",
    "ax.xaxis.tick_top()\n",
    "ax.set_xticklabels(ax.get_xticklabels(), rotation=45, ha='left')\n",
    "\n",
    "plt.title(\"Heatmap de correlaciones\")\n",
    "plt.savefig(\"matriz_correl.png\", bbox_inches='tight')\n",
    "plt.show()"
   ]
  },
  {
   "cell_type": "markdown",
   "id": "d9bffc51-fd76-4e80-8141-a06613bfdc2b",
   "metadata": {},
   "source": [
    "## Parte III: Conociendo a los pobres y no-pobres"
   ]
  },
  {
   "cell_type": "markdown",
   "id": "443410e9-022c-43d0-9587-d68b25fa6963",
   "metadata": {},
   "source": [
    "#### Ejercicio 5:\n",
    "\"¿Cuántas personas no respondieron cuál es su condición de actividad? <br>\n",
    "Guarden como una base distinta llamada <i>'respondieron'</i> las observaciones donde respondieron la pregunta sobre su ingreso total familiar (ITF). <br>\n",
    "Las observaciones con ITF=0 guárdenlas en una base bajo el nombre <i>norespondieron.</i>\""
   ]
  },
  {
   "cell_type": "code",
   "execution_count": 348,
   "id": "a7cbce5d-d8f8-490b-80f3-3ca969e628bd",
   "metadata": {},
   "outputs": [
    {
     "name": "stdout",
     "output_type": "stream",
     "text": [
      "Index(['CODUSU', 'NRO_HOGAR', 'COMPONENTE', 'H15', 'ANO4', 'TRIMESTRE',\n",
      "       'REGION', 'MAS_500', 'AGLOMERADO', 'PONDERA',\n",
      "       ...\n",
      "       'GDECIFR', 'PDECIFR', 'ADECIFR', 'IPCF', 'DECCFR', 'IDECCFR', 'RDECCFR',\n",
      "       'GDECCFR', 'PDECCFR', 'ADECCFR'],\n",
      "      dtype='object', length=168)\n"
     ]
    }
   ],
   "source": [
    "print(dbconcat.columns)"
   ]
  },
  {
   "cell_type": "code",
   "execution_count": 349,
   "id": "3ff2bf0d-d142-479a-b830-4295bf6e0ef8",
   "metadata": {},
   "outputs": [],
   "source": [
    "respondieron = dbconcat[dbconcat['ITF'] > 0]"
   ]
  },
  {
   "cell_type": "code",
   "execution_count": 350,
   "id": "12965508-2799-4dc7-bf2d-f4f184d579f6",
   "metadata": {},
   "outputs": [],
   "source": [
    "norespondieron = dbconcat[dbconcat['ITF'] == 0]"
   ]
  },
  {
   "cell_type": "code",
   "execution_count": 351,
   "id": "49b7c5f6-466c-4cf0-bc19-23ef555af42e",
   "metadata": {},
   "outputs": [
    {
     "name": "stdout",
     "output_type": "stream",
     "text": [
      "<class 'pandas.core.frame.DataFrame'>\n",
      "Index: 8766 entries, 18832 to 45413\n",
      "Columns: 168 entries, CODUSU to ADECCFR\n",
      "dtypes: float64(42), object(126)\n",
      "memory usage: 11.3+ MB\n",
      "\n",
      "<class 'pandas.core.frame.DataFrame'>\n",
      "Index: 1433 entries, 19556 to 45405\n",
      "Columns: 168 entries, CODUSU to ADECCFR\n",
      "dtypes: float64(42), object(126)\n",
      "memory usage: 1.8+ MB\n"
     ]
    }
   ],
   "source": [
    "respondieron.info()\n",
    "print()\n",
    "norespondieron.info()"
   ]
  },
  {
   "cell_type": "code",
   "execution_count": 352,
   "id": "bdfd77c5-d87b-4547-8131-6d16668bf58f",
   "metadata": {},
   "outputs": [],
   "source": [
    "respondieron2005 = dbconcat[(dbconcat['ITF'] > 0) & (dbconcat['ANO4'] == float(2005))]\n",
    "norespondieron2005 = dbconcat[(dbconcat['ITF'] == 0) & (dbconcat['ANO4'] == float(2005))]\n",
    "respondieron2025 = dbconcat[(dbconcat['ITF'] > 0) & (dbconcat['ANO4'] == float(2025))]\n",
    "norespondieron2025 = dbconcat[(dbconcat['ITF'] == 0) & (dbconcat['ANO4'] == float(2025))]"
   ]
  },
  {
   "cell_type": "code",
   "execution_count": 353,
   "id": "bbccba65-63ec-4789-8930-0ba351304ed3",
   "metadata": {},
   "outputs": [
    {
     "name": "stdout",
     "output_type": "stream",
     "text": [
      "<class 'pandas.core.frame.DataFrame'>\n",
      "Index: 5426 entries, 18832 to 24284\n",
      "Columns: 168 entries, CODUSU to ADECCFR\n",
      "dtypes: float64(42), object(126)\n",
      "memory usage: 7.0+ MB\n",
      "\n",
      "<class 'pandas.core.frame.DataFrame'>\n",
      "Index: 27 entries, 19556 to 23473\n",
      "Columns: 168 entries, CODUSU to ADECCFR\n",
      "dtypes: float64(42), object(126)\n",
      "memory usage: 35.6+ KB\n",
      "\n",
      "<class 'pandas.core.frame.DataFrame'>\n",
      "Index: 3340 entries, 14 to 45413\n",
      "Columns: 168 entries, CODUSU to ADECCFR\n",
      "dtypes: float64(42), object(126)\n",
      "memory usage: 4.3+ MB\n",
      "\n",
      "<class 'pandas.core.frame.DataFrame'>\n",
      "Index: 1406 entries, 25 to 45405\n",
      "Columns: 168 entries, CODUSU to ADECCFR\n",
      "dtypes: float64(42), object(126)\n",
      "memory usage: 1.8+ MB\n"
     ]
    }
   ],
   "source": [
    "respondieron2005.info()\n",
    "print()\n",
    "norespondieron2005.info()\n",
    "print()\n",
    "respondieron2025.info()\n",
    "print()\n",
    "norespondieron2025.info()"
   ]
  },
  {
   "cell_type": "markdown",
   "id": "ed775927-e377-4d94-ba94-0ac774225254",
   "metadata": {},
   "source": [
    "#### Ejercicio 6:\n",
    "\"Utilizando el archivo <i>tabla_adulto_equiv.xlsx</i>, agreguen a su base de datos una columna llamada <i>adulto_equiv</i> que contenga los valores de adulto equivalente de cada persona según su sexo y edad (por ejemplo, a un varón de 2 años le corresponde 0.46). Finalmente, con el comando 'groupby' sumen esta nueva columna para las personas que pertenecen a un mismo hogar y guarden ese dato en una columna llamada 'ad_equiv_hogar'\""
   ]
  },
  {
   "cell_type": "code",
   "execution_count": 363,
   "id": "7e5a2efe-7e74-4562-bd5e-c769198dd454",
   "metadata": {},
   "outputs": [
    {
     "data": {
      "text/html": [
       "<div>\n",
       "<style scoped>\n",
       "    .dataframe tbody tr th:only-of-type {\n",
       "        vertical-align: middle;\n",
       "    }\n",
       "\n",
       "    .dataframe tbody tr th {\n",
       "        vertical-align: top;\n",
       "    }\n",
       "\n",
       "    .dataframe thead th {\n",
       "        text-align: right;\n",
       "    }\n",
       "</style>\n",
       "<table border=\"1\" class=\"dataframe\">\n",
       "  <thead>\n",
       "    <tr style=\"text-align: right;\">\n",
       "      <th></th>\n",
       "      <th>Mujer</th>\n",
       "      <th>Varón</th>\n",
       "    </tr>\n",
       "    <tr>\n",
       "      <th>Edad</th>\n",
       "      <th></th>\n",
       "      <th></th>\n",
       "    </tr>\n",
       "  </thead>\n",
       "  <tbody>\n",
       "    <tr>\n",
       "      <th>0</th>\n",
       "      <td>0.35</td>\n",
       "      <td>0.35</td>\n",
       "    </tr>\n",
       "    <tr>\n",
       "      <th>1</th>\n",
       "      <td>0.37</td>\n",
       "      <td>0.37</td>\n",
       "    </tr>\n",
       "    <tr>\n",
       "      <th>2</th>\n",
       "      <td>0.46</td>\n",
       "      <td>0.46</td>\n",
       "    </tr>\n",
       "    <tr>\n",
       "      <th>3</th>\n",
       "      <td>0.51</td>\n",
       "      <td>0.51</td>\n",
       "    </tr>\n",
       "    <tr>\n",
       "      <th>4</th>\n",
       "      <td>0.55</td>\n",
       "      <td>0.55</td>\n",
       "    </tr>\n",
       "    <tr>\n",
       "      <th>...</th>\n",
       "      <td>...</td>\n",
       "      <td>...</td>\n",
       "    </tr>\n",
       "    <tr>\n",
       "      <th>72</th>\n",
       "      <td>0.67</td>\n",
       "      <td>0.83</td>\n",
       "    </tr>\n",
       "    <tr>\n",
       "      <th>73</th>\n",
       "      <td>0.67</td>\n",
       "      <td>0.83</td>\n",
       "    </tr>\n",
       "    <tr>\n",
       "      <th>74</th>\n",
       "      <td>0.67</td>\n",
       "      <td>0.83</td>\n",
       "    </tr>\n",
       "    <tr>\n",
       "      <th>75</th>\n",
       "      <td>0.67</td>\n",
       "      <td>0.83</td>\n",
       "    </tr>\n",
       "    <tr>\n",
       "      <th>76</th>\n",
       "      <td>0.63</td>\n",
       "      <td>0.74</td>\n",
       "    </tr>\n",
       "  </tbody>\n",
       "</table>\n",
       "<p>77 rows × 2 columns</p>\n",
       "</div>"
      ],
      "text/plain": [
       "      Mujer  Varón\n",
       "Edad              \n",
       "0      0.35   0.35\n",
       "1      0.37   0.37\n",
       "2      0.46   0.46\n",
       "3      0.51   0.51\n",
       "4      0.55   0.55\n",
       "...     ...    ...\n",
       "72     0.67   0.83\n",
       "73     0.67   0.83\n",
       "74     0.67   0.83\n",
       "75     0.67   0.83\n",
       "76     0.63   0.74\n",
       "\n",
       "[77 rows x 2 columns]"
      ]
     },
     "execution_count": 363,
     "metadata": {},
     "output_type": "execute_result"
    }
   ],
   "source": [
    "#En el archivo de origen, tabla_adulto_equiv.xlsx, hemos creado una nueva hoja homogeneizando la tabla de equivalencias para que pueda ser correctamente normalizada e interpretada por Pandas\n",
    "equiv = pd.read_excel(\"tabla_adulto_equiv.xlsx\",sheet_name=\"Tabla de trabajo\")\n",
    "equiv.set_index('Edad')"
   ]
  },
  {
   "cell_type": "code",
   "execution_count": 365,
   "id": "c5fa8ef5-d468-4c93-81b3-87a2658e255c",
   "metadata": {},
   "outputs": [
    {
     "name": "stdout",
     "output_type": "stream",
     "text": [
      "<class 'pandas.core.frame.DataFrame'>\n",
      "Index: 10199 entries, 18832 to 45413\n",
      "Data columns (total 45 columns):\n",
      " #   Column           Non-Null Count  Dtype  \n",
      "---  ------           --------------  -----  \n",
      " 0   CODUSU           10199 non-null  object \n",
      " 1   ANO4             10199 non-null  float64\n",
      " 2   CH06             10161 non-null  float64\n",
      " 3   IPCF             10199 non-null  float64\n",
      " 4   CAT_OCUP         4008 non-null   float64\n",
      " 5   PP06E            210 non-null    float64\n",
      " 6   PP04G            3488 non-null   float64\n",
      " 7   PP03I            3798 non-null   float64\n",
      " 8   PP07K            2754 non-null   float64\n",
      " 9   P21              9729 non-null   float64\n",
      " 10  T_VI             10037 non-null  float64\n",
      " 11  ITF              10199 non-null  float64\n",
      " 12  Varón            10199 non-null  float64\n",
      " 13  Mujer            10199 non-null  float64\n",
      " 14  Unido            10199 non-null  float64\n",
      " 15  Casado           10199 non-null  float64\n",
      " 16  Separado         10199 non-null  float64\n",
      " 17  Viudo            10199 non-null  float64\n",
      " 18  Soltero          10199 non-null  float64\n",
      " 19  OS               10116 non-null  float64\n",
      " 20  Prep.            10116 non-null  float64\n",
      " 21  Publica          10116 non-null  float64\n",
      " 22  Sin_cobertura    10116 non-null  float64\n",
      " 23  OS_Prep.         10116 non-null  float64\n",
      " 24  OS_Publica       10116 non-null  float64\n",
      " 25  Prep_Publica     10116 non-null  float64\n",
      " 26  OS_Prep_Publica  10116 non-null  float64\n",
      " 27  Prim_inc         10199 non-null  float64\n",
      " 28  Prim_com         10199 non-null  float64\n",
      " 29  Sec_inc          10199 non-null  float64\n",
      " 30  Sec_com          10199 non-null  float64\n",
      " 31  Sup_inc          10199 non-null  float64\n",
      " 32  Sup_com          10199 non-null  float64\n",
      " 33  No_educ          10199 non-null  float64\n",
      " 34  Ocupado          10183 non-null  float64\n",
      " 35  Desocupado       10183 non-null  float64\n",
      " 36  Inactivo         10183 non-null  float64\n",
      " 37  Menor_10y        10183 non-null  float64\n",
      " 38  Jubilado         6074 non-null   float64\n",
      " 39  Rentista         6074 non-null   float64\n",
      " 40  Estudiante       6074 non-null   float64\n",
      " 41  Ama              6074 non-null   float64\n",
      " 42  Menor_6y         6074 non-null   float64\n",
      " 43  Discapac         6074 non-null   float64\n",
      " 44  Otros            6074 non-null   float64\n",
      "dtypes: float64(44), object(1)\n",
      "memory usage: 3.6+ MB\n",
      "None\n"
     ]
    }
   ],
   "source": [
    "print(corrpanel.info())"
   ]
  },
  {
   "cell_type": "code",
   "execution_count": 366,
   "id": "64a01df8-9e7f-4422-a054-b72fa3f11d30",
   "metadata": {},
   "outputs": [],
   "source": [
    "# Última fila como fallback\n",
    "ultima_fila = equiv.iloc[-1]\n",
    "\n",
    "# Función para buscar equivalencia según Edad y sexo\n",
    "def buscar_equivalencia(row):\n",
    "    edad = row['Edad']\n",
    "    \n",
    "    # Determinar qué columna usar según la columna de sexo que tenga valor 1\n",
    "    if row['Varón'] == 1:\n",
    "        sexo_col = 'Varón'\n",
    "    elif row['Mujer'] == 1:\n",
    "        sexo_col = 'Mujer'\n",
    "    else:\n",
    "        # Si ninguna columna está activa, devolvemos NaN\n",
    "        return np.nan\n",
    "    \n",
    "    try:\n",
    "        return equiv.loc[edad, sexo_col]\n",
    "    except KeyError:\n",
    "        # Si no se encuentra la edad, usamos el valor de la última fila\n",
    "        return ultima_fila[sexo_col]\n",
    "\n",
    "# Aplicar sobre cada fila\n",
    "matrizej['adulto_equiv'] = matrizej.apply(buscar_equivalencia, axis=1)"
   ]
  },
  {
   "cell_type": "code",
   "execution_count": 367,
   "id": "e1090da5-d13b-4093-b52f-b3b40fd461ff",
   "metadata": {},
   "outputs": [
    {
     "name": "stdout",
     "output_type": "stream",
     "text": [
      "23405    0.63\n",
      "29275    1.03\n",
      "20309    0.67\n",
      "19034    1.03\n",
      "19192    0.77\n",
      "23022    0.67\n",
      "23469    0.83\n",
      "20526    0.76\n",
      "24198    0.76\n",
      "19956    0.67\n",
      "23300    0.77\n",
      "22084    0.79\n",
      "19271    0.76\n",
      "11770    0.77\n",
      "23145    0.76\n",
      "7800     0.63\n",
      "21894    1.00\n",
      "33695    1.00\n",
      "33360    0.77\n",
      "20803    0.77\n",
      "23982    1.00\n",
      "20422    0.83\n",
      "32443    0.77\n",
      "20256    0.63\n",
      "24213    0.76\n",
      "23601    1.00\n",
      "23149    1.03\n",
      "16116    0.77\n",
      "22700    0.76\n",
      "6011     1.00\n",
      "29889    1.00\n",
      "21252    0.74\n",
      "19351    0.64\n",
      "21264    0.37\n",
      "19317    0.76\n",
      "Name: adulto_equiv, dtype: float64\n"
     ]
    }
   ],
   "source": [
    "print(matrizej['adulto_equiv'].sample(35))"
   ]
  },
  {
   "cell_type": "code",
   "execution_count": null,
   "id": "a3c7d898-5ad5-47ec-b67a-fd7b1949427c",
   "metadata": {},
   "outputs": [],
   "source": []
  }
 ],
 "metadata": {
  "kernelspec": {
   "display_name": "primernetorno",
   "language": "python",
   "name": "primernetorno"
  },
  "language_info": {
   "codemirror_mode": {
    "name": "ipython",
    "version": 3
   },
   "file_extension": ".py",
   "mimetype": "text/x-python",
   "name": "python",
   "nbconvert_exporter": "python",
   "pygments_lexer": "ipython3",
   "version": "3.13.2"
  }
 },
 "nbformat": 4,
 "nbformat_minor": 5
}
